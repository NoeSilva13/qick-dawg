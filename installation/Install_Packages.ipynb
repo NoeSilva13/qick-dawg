{
 "cells": [
  {
   "cell_type": "markdown",
   "id": "8d5701cc",
   "metadata": {},
   "source": [
    "# Install Packages for QICK-DAWG\n",
    "QICK-DAWG doesn't actually need to be installed on the RFSoC.  Instead we run the RFSoC as a server by using pyro"
   ]
  },
  {
   "cell_type": "code",
   "execution_count": 1,
   "id": "5999dcba",
   "metadata": {},
   "outputs": [
    {
     "name": "stdout",
     "output_type": "stream",
     "text": [
      "Requirement already satisfied: pyro4 in /usr/local/share/pynq-venv/lib/python3.10/site-packages (4.82)\n",
      "Requirement already satisfied: serpent>=1.27 in /usr/local/share/pynq-venv/lib/python3.10/site-packages (from pyro4) (1.41)\n"
     ]
    }
   ],
   "source": [
    "!pip install pyro4"
   ]
  },
  {
   "cell_type": "markdown",
   "id": "598f3811",
   "metadata": {},
   "source": [
    "# Clone and install QICK"
   ]
  },
  {
   "cell_type": "code",
   "execution_count": null,
   "id": "c2aa59ff",
   "metadata": {},
   "outputs": [
    {
     "name": "stdout",
     "output_type": "stream",
     "text": [
      "Cloning into '/home/xilinx/jupyter_notebooks/qick'...\n",
      "remote: Enumerating objects: 9371, done.\u001b[K\n",
      "remote: Counting objects: 100% (1770/1770), done.\u001b[K\n",
      "remote: Compressing objects: 100% (398/398), done.\u001b[K\n",
      "remote: Total 9371 (delta 1488), reused 1385 (delta 1361), pack-reused 7601 (from 3)\u001b[K\n",
      "Receiving objects: 100% (9371/9371), 118.04 MiB | 2.58 MiB/s, done.\n",
      "Resolving deltas: 100% (5203/5203), done.\n",
      "Updating files: 100% (1351/1351), done.\n",
      "Obtaining file:///home/xilinx/jupyter_notebooks/qick\n",
      "  Installing build dependencies ... \u001b[?25l\\"
     ]
    }
   ],
   "source": [
    "!git clone https://github.com/openquantumhardware/qick.git /home/xilinx/jupyter_notebooks/qick\n",
    "!pip install -e /home/xilinx/jupyter_notebooks/qick/"
   ]
  },
  {
   "cell_type": "markdown",
   "id": "4b4d2a09",
   "metadata": {},
   "source": [
    "# Move run server files"
   ]
  },
  {
   "cell_type": "code",
   "execution_count": null,
   "id": "2f299774",
   "metadata": {},
   "outputs": [],
   "source": [
    "!cp ./run_server/name_server.ipynb /home/xilinx/jupyter_notebooks/\n",
    "!cp ./run_server/qick_daemon.ipynb /home/xilinx/jupyter_notebooks/"
   ]
  }
 ],
 "metadata": {
  "kernelspec": {
   "display_name": "Python 3 (ipykernel)",
   "language": "python",
   "name": "python3"
  },
  "language_info": {
   "codemirror_mode": {
    "name": "ipython",
    "version": 3
   },
   "file_extension": ".py",
   "mimetype": "text/x-python",
   "name": "python",
   "nbconvert_exporter": "python",
   "pygments_lexer": "ipython3",
   "version": "3.10.4"
  }
 },
 "nbformat": 4,
 "nbformat_minor": 5
}
