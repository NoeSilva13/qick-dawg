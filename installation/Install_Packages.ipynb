{
 "cells": [
  {
   "cell_type": "markdown",
   "id": "8d5701cc",
   "metadata": {},
   "source": [
    "## Getting Started "
   ]
  },
  {
   "cell_type": "markdown",
   "id": "5cad0899",
   "metadata": {},
   "source": [
    "The following code installs Serpent, Pyro4, and QICK. Sperent and Pyro4 are required to run the RFSoC FPGA as an object. QICK, the Quantum Instrumentation Control Kit, created in partnership between Princeton, UChicago, and Fermi lab is a superconducting qubit controller that supports the synthesis of control pulses up to 6 GHz. \n",
    "\n",
    "This code also moves the alternative_firmware and run_server folders out of the installation folder to the main jupyter_notebooks branch. "
   ]
  },
  {
   "cell_type": "markdown",
   "id": "6731c5ec",
   "metadata": {},
   "source": [
    "### Installing Serpent"
   ]
  },
  {
   "cell_type": "code",
   "execution_count": 1,
   "id": "31a8a1e8",
   "metadata": {},
   "outputs": [
    {
     "name": "stdout",
     "output_type": "stream",
     "text": [
      "Collecting serpent\n",
      "  Downloading serpent-1.41-py3-none-any.whl (9.6 kB)\n",
      "Installing collected packages: serpent\n",
      "Successfully installed serpent-1.41\n"
     ]
    }
   ],
   "source": [
    "# installing Serpent\n",
    "!pip install serpent "
   ]
  },
  {
   "cell_type": "code",
   "execution_count": 2,
   "id": "192b3e5a",
   "metadata": {},
   "outputs": [
    {
     "name": "stdout",
     "output_type": "stream",
     "text": [
      "Name: serpent\r\n",
      "Version: 1.41\r\n",
      "Summary: Serialization based on ast.literal_eval\r\n",
      "Home-page: https://github.com/irmen/Serpent\r\n",
      "Author: Irmen de Jong\r\n",
      "Author-email: irmen@razorvine.net\r\n",
      "License: MIT\r\n",
      "Location: /usr/local/share/pynq-venv/lib/python3.10/site-packages\r\n",
      "Requires: \r\n",
      "Required-by: \r\n"
     ]
    }
   ],
   "source": [
    "!pip show Serpent "
   ]
  },
  {
   "cell_type": "markdown",
   "id": "2b062fe1",
   "metadata": {},
   "source": [
    "### Installing Pyro4"
   ]
  },
  {
   "cell_type": "code",
   "execution_count": 3,
   "id": "205cea28",
   "metadata": {},
   "outputs": [
    {
     "name": "stdout",
     "output_type": "stream",
     "text": [
      "Collecting pyro4\n",
      "  Downloading Pyro4-4.82-py2.py3-none-any.whl (89 kB)\n",
      "\u001b[2K     \u001b[90m━━━━━━━━━━━━━━━━━━━━━━━━━━━━━━━━━━━━━━━\u001b[0m \u001b[32m90.0/90.0 KB\u001b[0m \u001b[31m921.7 kB/s\u001b[0m eta \u001b[36m0:00:00\u001b[0m \u001b[36m0:00:01\u001b[0m\n",
      "\u001b[?25hRequirement already satisfied: serpent>=1.27 in /usr/local/share/pynq-venv/lib/python3.10/site-packages (from pyro4) (1.41)\n",
      "Installing collected packages: pyro4\n",
      "Successfully installed pyro4-4.82\n"
     ]
    }
   ],
   "source": [
    "!pip install pyro4"
   ]
  },
  {
   "cell_type": "code",
   "execution_count": 4,
   "id": "99fa4b7e",
   "metadata": {},
   "outputs": [
    {
     "name": "stdout",
     "output_type": "stream",
     "text": [
      "Name: Pyro4\r\n",
      "Version: 4.82\r\n",
      "Summary: distributed object middleware for Python (RPC)\r\n",
      "Home-page: http://pyro4.readthedocs.io\r\n",
      "Author: Irmen de Jong\r\n",
      "Author-email: irmen@razorvine.net\r\n",
      "License: MIT\r\n",
      "Location: /usr/local/share/pynq-venv/lib/python3.10/site-packages\r\n",
      "Requires: serpent\r\n",
      "Required-by: \r\n"
     ]
    }
   ],
   "source": [
    "!pip show Pyro4"
   ]
  },
  {
   "cell_type": "markdown",
   "id": "ce8c3de1",
   "metadata": {},
   "source": [
    "### Installing QICK\n",
    "\n",
    "We install QICK from a local file since it is important to install a QICK-DAWG compatitible version (currently 0.2.160). "
   ]
  },
  {
   "cell_type": "code",
   "execution_count": 5,
   "id": "1b3ae8fc",
   "metadata": {},
   "outputs": [
    {
     "name": "stdout",
     "output_type": "stream",
     "text": [
      "Obtaining file:///home/xilinx/jupyter_notebooks/qick-dawg/qick\n",
      "  Checking if build backend supports build_editable ... \u001b[?25ldone\n",
      "\u001b[?25h  Preparing metadata (pyproject.toml) ... \u001b[?25ldone\n",
      "\u001b[?25hRequirement already satisfied: tqdm in /usr/local/share/pynq-venv/lib/python3.10/site-packages (from qick==0.2.160) (4.64.0)\n",
      "Requirement already satisfied: numpy in /usr/lib/python3/dist-packages (from qick==0.2.160) (1.21.5)\n",
      "Requirement already satisfied: pynq>=2.6 in /usr/local/share/pynq-venv/lib/python3.10/site-packages (from qick==0.2.160) (3.0.1)\n",
      "Requirement already satisfied: nest-asyncio in /usr/local/share/pynq-venv/lib/python3.10/site-packages (from pynq>=2.6->qick==0.2.160) (1.5.5)\n",
      "Requirement already satisfied: cffi in /usr/lib/python3/dist-packages (from pynq>=2.6->qick==0.2.160) (1.15.0)\n",
      "Requirement already satisfied: setuptools>=24.2.0 in /usr/local/share/pynq-venv/lib/python3.10/site-packages (from pynq>=2.6->qick==0.2.160) (59.6.0)\n",
      "Requirement already satisfied: pynqmetadata>=0.0.1 in /usr/local/share/pynq-venv/lib/python3.10/site-packages (from pynq>=2.6->qick==0.2.160) (0.3.1)\n",
      "Requirement already satisfied: pynqutils>=0.0.1 in /usr/local/share/pynq-venv/lib/python3.10/site-packages (from pynq>=2.6->qick==0.2.160) (0.1.0)\n",
      "Requirement already satisfied: pydantic in /usr/local/share/pynq-venv/lib/python3.10/site-packages (from pynqmetadata>=0.0.1->pynq>=2.6->qick==0.2.160) (1.9.1)\n",
      "Requirement already satisfied: jsonschema>=3.2.0 in /usr/local/share/pynq-venv/lib/python3.10/site-packages (from pynqmetadata>=0.0.1->pynq>=2.6->qick==0.2.160) (4.9.0)\n",
      "Requirement already satisfied: python-magic>=0.4.25 in /usr/local/share/pynq-venv/lib/python3.10/site-packages (from pynqutils>=0.0.1->pynq>=2.6->qick==0.2.160) (0.4.27)\n",
      "Requirement already satisfied: pyrsistent!=0.17.0,!=0.17.1,!=0.17.2,>=0.14.0 in /usr/local/share/pynq-venv/lib/python3.10/site-packages (from jsonschema>=3.2.0->pynqmetadata>=0.0.1->pynq>=2.6->qick==0.2.160) (0.18.1)\n",
      "Requirement already satisfied: attrs>=17.4.0 in /usr/local/lib/python3.10/dist-packages (from jsonschema>=3.2.0->pynqmetadata>=0.0.1->pynq>=2.6->qick==0.2.160) (23.1.0)\n",
      "Requirement already satisfied: typing-extensions>=3.7.4.3 in /usr/local/share/pynq-venv/lib/python3.10/site-packages (from pydantic->pynqmetadata>=0.0.1->pynq>=2.6->qick==0.2.160) (4.3.0)\n",
      "Installing collected packages: qick\n",
      "  Running setup.py develop for qick\n",
      "Successfully installed qick\n"
     ]
    }
   ],
   "source": [
    "!cd ../qick; pip install --no-index --no-build-isolation -e ./\n"
   ]
  },
  {
   "cell_type": "code",
   "execution_count": 7,
   "id": "5999dcba",
   "metadata": {},
   "outputs": [
    {
     "name": "stdout",
     "output_type": "stream",
     "text": [
      "Name: qick\r\n",
      "Version: 0.2.160\r\n",
      "Summary: Quantum Instrumentation Controller Kit software library\r\n",
      "Home-page: https://github.com/openquantumhardware/qick\r\n",
      "Author: Open Quantum Hardware\r\n",
      "Author-email: openquantumhardware@gmail.com\r\n",
      "License: UNKNOWN\r\n",
      "Location: /home/xilinx/jupyter_notebooks/qick-dawg/qick/qick_lib\r\n",
      "Requires: numpy, pynq, tqdm\r\n",
      "Required-by: \r\n"
     ]
    }
   ],
   "source": [
    "!pip show qick"
   ]
  }
 ],
 "metadata": {
  "kernelspec": {
   "display_name": "Python 3 (ipykernel)",
   "language": "python",
   "name": "python3"
  },
  "language_info": {
   "codemirror_mode": {
    "name": "ipython",
    "version": 3
   },
   "file_extension": ".py",
   "mimetype": "text/x-python",
   "name": "python",
   "nbconvert_exporter": "python",
   "pygments_lexer": "ipython3",
   "version": "3.10.4"
  }
 },
 "nbformat": 4,
 "nbformat_minor": 5
}
