{
 "cells": [
  {
   "cell_type": "markdown",
   "id": "8d5701cc",
   "metadata": {},
   "source": [
    "# Install QICK-DAWG"
   ]
  },
  {
   "cell_type": "code",
   "execution_count": 10,
   "id": "5999dcba",
   "metadata": {},
   "outputs": [
    {
     "name": "stdout",
     "output_type": "stream",
     "text": [
      "Obtaining file:///home/xilinx/jupyter_notebooks/qickdawg\n",
      "  Installing build dependencies ... \u001b[?25ldone\n",
      "\u001b[?25h  Checking if build backend supports build_editable ... \u001b[?25ldone\n",
      "\u001b[?25h  Getting requirements to build wheel ... \u001b[?25ldone\n",
      "\u001b[?25h  Installing backend dependencies ... \u001b[?25ldone\n",
      "\u001b[?25h  Preparing metadata (pyproject.toml) ... \u001b[?25ldone\n",
      "\u001b[?25hInstalling collected packages: qickdawg\n",
      "  Attempting uninstall: qickdawg\n",
      "    Found existing installation: qickdawg 1.0.2\n",
      "    Uninstalling qickdawg-1.0.2:\n",
      "      Successfully uninstalled qickdawg-1.0.2\n",
      "  Running setup.py develop for qickdawg\n",
      "Successfully installed qickdawg-1.0.2\n",
      "Collecting pyro4\n",
      "  Downloading Pyro4-4.82-py2.py3-none-any.whl (89 kB)\n",
      "\u001b[2K     \u001b[90m━━━━━━━━━━━━━━━━━━━━━━━━━━━━━━━━━━━━━━━\u001b[0m \u001b[32m90.0/90.0 KB\u001b[0m \u001b[31m724.2 kB/s\u001b[0m eta \u001b[36m0:00:00\u001b[0ma \u001b[36m0:00:01\u001b[0m\n",
      "\u001b[?25hCollecting serpent>=1.27\n",
      "  Downloading serpent-1.41-py3-none-any.whl (9.6 kB)\n",
      "Installing collected packages: serpent, pyro4\n",
      "Successfully installed pyro4-4.82 serpent-1.41\n"
     ]
    }
   ],
   "source": [
    "!pip install -e /home/xilinx/jupyter_notebooks/qickdawg\n",
    "!pip install pyro4"
   ]
  },
  {
   "cell_type": "markdown",
   "id": "598f3811",
   "metadata": {},
   "source": [
    "# Clone and install QICK"
   ]
  },
  {
   "cell_type": "code",
   "execution_count": 4,
   "id": "c2aa59ff",
   "metadata": {},
   "outputs": [
    {
     "name": "stdout",
     "output_type": "stream",
     "text": [
      "fatal: destination path '/home/xilinx/jupyter_notebooks/qick' already exists and is not an empty directory.\n",
      "Obtaining file:///home/xilinx/jupyter_notebooks/qick\n",
      "  Installing build dependencies ... \u001b[?25ldone\n",
      "\u001b[?25h  Checking if build backend supports build_editable ... \u001b[?25ldone\n",
      "\u001b[?25h  Getting requirements to build wheel ... \u001b[?25ldone\n",
      "\u001b[?25h  Preparing metadata (pyproject.toml) ... \u001b[?25ldone\n",
      "\u001b[?25hRequirement already satisfied: numpy in /usr/lib/python3/dist-packages (from qick==0.2.302) (1.21.5)\n",
      "Requirement already satisfied: pynq>=2.6 in /usr/local/share/pynq-venv/lib/python3.10/site-packages (from qick==0.2.302) (3.0.1)\n",
      "Requirement already satisfied: tqdm in /usr/local/share/pynq-venv/lib/python3.10/site-packages (from qick==0.2.302) (4.64.0)\n",
      "Requirement already satisfied: setuptools>=24.2.0 in /usr/local/share/pynq-venv/lib/python3.10/site-packages (from pynq>=2.6->qick==0.2.302) (59.6.0)\n",
      "Requirement already satisfied: pynqutils>=0.0.1 in /usr/local/share/pynq-venv/lib/python3.10/site-packages (from pynq>=2.6->qick==0.2.302) (0.1.0)\n",
      "Requirement already satisfied: nest-asyncio in /usr/local/share/pynq-venv/lib/python3.10/site-packages (from pynq>=2.6->qick==0.2.302) (1.5.5)\n",
      "Requirement already satisfied: pynqmetadata>=0.0.1 in /usr/local/share/pynq-venv/lib/python3.10/site-packages (from pynq>=2.6->qick==0.2.302) (0.3.1)\n",
      "Requirement already satisfied: cffi in /usr/lib/python3/dist-packages (from pynq>=2.6->qick==0.2.302) (1.15.0)\n",
      "Requirement already satisfied: pydantic in /usr/local/share/pynq-venv/lib/python3.10/site-packages (from pynqmetadata>=0.0.1->pynq>=2.6->qick==0.2.302) (1.9.1)\n",
      "Requirement already satisfied: jsonschema>=3.2.0 in /usr/local/share/pynq-venv/lib/python3.10/site-packages (from pynqmetadata>=0.0.1->pynq>=2.6->qick==0.2.302) (4.9.0)\n",
      "Requirement already satisfied: python-magic>=0.4.25 in /usr/local/share/pynq-venv/lib/python3.10/site-packages (from pynqutils>=0.0.1->pynq>=2.6->qick==0.2.302) (0.4.27)\n",
      "Requirement already satisfied: attrs>=17.4.0 in /usr/lib/python3/dist-packages (from jsonschema>=3.2.0->pynqmetadata>=0.0.1->pynq>=2.6->qick==0.2.302) (21.2.0)\n",
      "Requirement already satisfied: pyrsistent!=0.17.0,!=0.17.1,!=0.17.2,>=0.14.0 in /usr/local/share/pynq-venv/lib/python3.10/site-packages (from jsonschema>=3.2.0->pynqmetadata>=0.0.1->pynq>=2.6->qick==0.2.302) (0.18.1)\n",
      "Requirement already satisfied: typing-extensions>=3.7.4.3 in /usr/local/share/pynq-venv/lib/python3.10/site-packages (from pydantic->pynqmetadata>=0.0.1->pynq>=2.6->qick==0.2.302) (4.3.0)\n",
      "Installing collected packages: qick\n",
      "  Running setup.py develop for qick\n",
      "Successfully installed qick\n"
     ]
    }
   ],
   "source": [
    "!git clone https://github.com/openquantumhardware/qick.git /home/xilinx/jupyter_notebooks/qick\n",
    "!pip install -e /home/xilinx/jupyter_notebooks/qick/"
   ]
  },
  {
   "cell_type": "markdown",
   "id": "4b4d2a09",
   "metadata": {},
   "source": [
    "# Move some files"
   ]
  },
  {
   "cell_type": "code",
   "execution_count": 9,
   "id": "2f299774",
   "metadata": {},
   "outputs": [],
   "source": [
    "!cp -r ./alternative_firmware /home/xilinx/jupyter_notebooks\n",
    "!cp ./run_server/name_server.ipynb /home/xilinx/jupyter_notebooks/\n",
    "!cp ./run_server/qick_daemon.ipynb /home/xilinx/jupyter_notebooks/"
   ]
  }
 ],
 "metadata": {
  "kernelspec": {
   "display_name": "Python 3 (ipykernel)",
   "language": "python",
   "name": "python3"
  },
  "language_info": {
   "codemirror_mode": {
    "name": "ipython",
    "version": 3
   },
   "file_extension": ".py",
   "mimetype": "text/x-python",
   "name": "python",
   "nbconvert_exporter": "python",
   "pygments_lexer": "ipython3",
   "version": "3.10.4"
  }
 },
 "nbformat": 4,
 "nbformat_minor": 5
}
