{
 "cells": [
  {
   "cell_type": "code",
   "execution_count": 1,
   "id": "d11572d9",
   "metadata": {},
   "outputs": [],
   "source": [
    "from qick import *\n",
    "\n",
    "qick_path = \"/home/xilinx/jupyter_notebooks/qickdawg/firmware/photon_counting/qick_4x2.bit\"\n",
    "ns_host = \"172.16.26.2\"\n"
   ]
  },
  {
   "cell_type": "code",
   "execution_count": null,
   "id": "3a696dd2",
   "metadata": {},
   "outputs": [
    {
     "name": "stdout",
     "output_type": "stream",
     "text": [
      "looking for nameserver . . .\n",
      "found nameserver\n"
     ]
    },
    {
     "data": {
      "application/javascript": [
       "\n",
       "try {\n",
       "require(['notebook/js/codecell'], function(codecell) {\n",
       "  codecell.CodeCell.options_default.highlight_modes[\n",
       "      'magic_text/x-csrc'] = {'reg':[/^%%microblaze/]};\n",
       "  Jupyter.notebook.events.one('kernel_ready.Kernel', function(){\n",
       "      Jupyter.notebook.get_cells().map(function(cell){\n",
       "          if (cell.cell_type == 'code'){ cell.auto_highlight(); } }) ;\n",
       "  });\n",
       "});\n",
       "} catch (e) {};\n"
      ]
     },
     "metadata": {},
     "output_type": "display_data"
    },
    {
     "data": {
      "application/javascript": [
       "\n",
       "try {\n",
       "require(['notebook/js/codecell'], function(codecell) {\n",
       "  codecell.CodeCell.options_default.highlight_modes[\n",
       "      'magic_text/x-csrc'] = {'reg':[/^%%pybind11/]};\n",
       "  Jupyter.notebook.events.one('kernel_ready.Kernel', function(){\n",
       "      Jupyter.notebook.get_cells().map(function(cell){\n",
       "          if (cell.cell_type == 'code'){ cell.auto_highlight(); } }) ;\n",
       "  });\n",
       "});\n",
       "} catch (e) {};\n"
      ]
     },
     "metadata": {},
     "output_type": "display_data"
    },
    {
     "name": "stdout",
     "output_type": "stream",
     "text": [
      "resetting clocks: 245.76 409.6\n",
      "initialized QICK\n",
      "QICK running on RFSoC4x2, software version 0.2.302\n",
      "\n",
      "Firmware configuration (built Thu Oct 10 17:02:55 2024):\n",
      "\n",
      "\tGlobal clocks (MHz): tProcessor 307.200, RF reference 409.600\n",
      "\n",
      "\t2 signal generator channels:\n",
      "\t0:\taxis_signal_gen_v6 - envelope memory 65536 samples (13.333 us)\n",
      "\t\tfs=4915.200 MHz, fabric=307.200 MHz, 32-bit DDS, range=4915.200 MHz\n",
      "\t\tDAC tile 0, blk 0 is DAC_B\n",
      "\t1:\taxis_signal_gen_v6 - envelope memory 65536 samples (13.333 us)\n",
      "\t\tfs=4915.200 MHz, fabric=307.200 MHz, 32-bit DDS, range=4915.200 MHz\n",
      "\t\tDAC tile 2, blk 0 is DAC_A\n",
      "\n",
      "\t2 readout channels:\n",
      "\t0:\taxis_readout_v2 - configured by PYNQ\n",
      "\t\tfs=2457.600 MHz, decimated=307.200 MHz, 32-bit DDS, range=2457.600 MHz\n",
      "\t\taxis_avg_buffer v1.1 (has edge counter)\n",
      "\t\tmaxlen 16384 accumulated, 1024 decimated (3.333 us)\n",
      "\t\ttriggered by output 7, pin 14, feedback to tProc input 0\n",
      "\t\tADC tile 0, blk 0 is ADC_D\n",
      "\t1:\taxis_readout_v2 - configured by PYNQ\n",
      "\t\tfs=2457.600 MHz, decimated=307.200 MHz, 32-bit DDS, range=2457.600 MHz\n",
      "\t\taxis_avg_buffer v1.1 (has edge counter)\n",
      "\t\tmaxlen 16384 accumulated, 1024 decimated (3.333 us)\n",
      "\t\ttriggered by output 7, pin 15, feedback to tProc input 1\n",
      "\t\tADC tile 0, blk 2 is ADC_C\n",
      "\n",
      "\t8 digital output pins:\n",
      "\t0:\tPMOD0_0\n",
      "\t1:\tPMOD0_1\n",
      "\t2:\tPMOD0_2\n",
      "\t3:\tPMOD0_3\n",
      "\t4:\tPMOD0_4\n",
      "\t5:\tPMOD0_5\n",
      "\t6:\tPMOD0_6\n",
      "\t7:\tPMOD0_7\n",
      "\n",
      "\ttProc axis_tproc64x32_x8 (\"v1\") rev 4: program memory 1024 words, data memory 1024 words\n",
      "\t\texternal start pin: PMOD1_0\n",
      "\n",
      "\tDDR4 memory buffer: 1073741824 samples (3.495 sec), 256 samples/transfer\n",
      "\t\twired to readouts [0, 1]\n",
      "\n",
      "\tMR buffer: 8192 samples (3.333 us), wired to readouts [0, 1]\n",
      "registered QICK\n",
      "registered member <qick.streamer.DataStreamer object at 0xffff7a05e5c0>\n",
      "registered member <qick.drivers.tproc.AxisTProc64x32_x8 object at 0xffff7a026d40>\n",
      "starting daemon\n"
     ]
    }
   ],
   "source": [
    "import Pyro4\n",
    "from qick import QickSoc, QickConfig\n",
    "\n",
    "ns_port = 8888\n",
    "\n",
    "server_name = \"myqick\"\n",
    "\n",
    "print(\"looking for nameserver . . .\")\n",
    "Pyro4.config.REQUIRE_EXPOSE = False\n",
    "Pyro4.config.SERIALIZER = \"pickle\"\n",
    "Pyro4.config.SERIALIZERS_ACCEPTED=set(['pickle'])\n",
    "Pyro4.config.PICKLE_PROTOCOL_VERSION=4\n",
    "ns = Pyro4.locateNS(host=ns_host, port=ns_port)\n",
    "print(\"found nameserver\")\n",
    "\n",
    "# if we have multiple network interfaces, we want to register the daemon using the IP address that faces the nameserver\n",
    "host = Pyro4.socketutil.getInterfaceAddress(ns._pyroUri.host)\n",
    "daemon = Pyro4.Daemon(host=host)\n",
    "\n",
    "# if you want to use a different firmware image or set some initialization options, you would do that here\n",
    "soc = QickSoc(bitfile=qick_path, force_init_clks=True)\n",
    "print(\"initialized QICK\")\n",
    "print(QickConfig(soc.get_cfg()))\n",
    "# register the QickSoc in the daemon (so the daemon exposes the QickSoc over Pyro4)\n",
    "# and in the nameserver (so the client can find the QickSoc)\n",
    "ns.register(server_name, daemon.register(soc))\n",
    "print(\"registered QICK\")\n",
    "\n",
    "# register in the daemon all the objects we expose as properties of the QickSoc\n",
    "# we don't register them in the nameserver, since they are only meant to be accessed through the QickSoc proxy\n",
    "# https://pyro4.readthedocs.io/en/stable/servercode.html#autoproxying\n",
    "# https://github.com/irmen/Pyro4/blob/master/examples/autoproxy/server.py\n",
    "for obj in soc.autoproxy:\n",
    "    daemon.register(obj)\n",
    "    print(\"registered member \"+str(obj))\n",
    "    \n",
    "print(\"starting daemon\")\n",
    "daemon.requestLoop() # this will run forever until interrupted"
   ]
  },
  {
   "cell_type": "code",
   "execution_count": null,
   "id": "8c142f0e",
   "metadata": {},
   "outputs": [],
   "source": []
  }
 ],
 "metadata": {
  "kernelspec": {
   "display_name": "Python 3 (ipykernel)",
   "language": "python",
   "name": "python3"
  },
  "language_info": {
   "codemirror_mode": {
    "name": "ipython",
    "version": 3
   },
   "file_extension": ".py",
   "mimetype": "text/x-python",
   "name": "python",
   "nbconvert_exporter": "python",
   "pygments_lexer": "ipython3",
   "version": "3.10.4"
  }
 },
 "nbformat": 4,
 "nbformat_minor": 5
}
