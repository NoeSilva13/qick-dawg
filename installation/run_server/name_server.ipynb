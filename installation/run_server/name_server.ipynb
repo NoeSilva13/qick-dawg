{
 "cells": [
  {
   "cell_type": "code",
   "execution_count": null,
   "metadata": {},
   "outputs": [
    {
     "name": "stdout",
     "output_type": "stream",
     "text": [
      "Broadcast server running on 0.0.0.0:9091\r\n",
      "NS running on 192.168.0.100:8888 (192.168.0.100)\r\n",
      "Warning: HMAC key not set. Anyone can connect to this server!\r\n",
      "URI = PYRO:Pyro.NameServer@192.168.0.100:8888\r\n"
     ]
    }
   ],
   "source": [
    "!PYRO_SERIALIZERS_ACCEPTED=pickle PYRO_PICKLE_PROTOCOL_VERSION=4 pyro4-ns -n 192.168.0.100 -p 8888"
   ]
  },
  {
   "cell_type": "code",
   "execution_count": null,
   "metadata": {},
   "outputs": [],
   "source": []
  }
 ],
 "metadata": {
  "kernelspec": {
   "display_name": "Python 3 (ipykernel)",
   "language": "python",
   "name": "python3"
  },
  "language_info": {
   "codemirror_mode": {
    "name": "ipython",
    "version": 3
   },
   "file_extension": ".py",
   "mimetype": "text/x-python",
   "name": "python",
   "nbconvert_exporter": "python",
   "pygments_lexer": "ipython3",
   "version": "3.10.4"
  }
 },
 "nbformat": 4,
 "nbformat_minor": 2
}
