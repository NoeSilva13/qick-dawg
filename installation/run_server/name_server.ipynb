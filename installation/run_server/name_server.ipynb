{
 "cells": [
  {
   "cell_type": "code",
   "execution_count": 1,
   "id": "78150aea",
   "metadata": {},
   "outputs": [
    {
     "name": "stdout",
     "output_type": "stream",
     "text": [
      "Traceback (most recent call last):\r\n",
      "  File \"/usr/local/share/pynq-venv/bin/pyro4-ns\", line 8, in <module>\r\n",
      "    sys.exit(main())\r\n",
      "  File \"/usr/local/share/pynq-venv/lib/python3.10/site-packages/Pyro4/naming.py\", line 561, in main\r\n",
      "    startNSloop(options.host, options.port, enableBroadcast=options.enablebc,\r\n",
      "  File \"/usr/local/share/pynq-venv/lib/python3.10/site-packages/Pyro4/naming.py\", line 465, in startNSloop\r\n",
      "    daemon = NameServerDaemon(host, port, unixsocket, nathost=nathost, natport=natport, storage=storage)\r\n",
      "  File \"/usr/local/share/pynq-venv/lib/python3.10/site-packages/Pyro4/naming.py\", line 269, in __init__\r\n",
      "    super(NameServerDaemon, self).__init__(host, port, unixsocket, nathost=nathost, natport=natport)\r\n",
      "  File \"/usr/local/share/pynq-venv/lib/python3.10/site-packages/Pyro4/core.py\", line 1141, in __init__\r\n",
      "    self.transportServer.init(self, host, port, unixsocket)\r\n",
      "  File \"/usr/local/share/pynq-venv/lib/python3.10/site-packages/Pyro4/socketserver/threadpoolserver.py\", line 129, in init\r\n",
      "    self.sock = socketutil.createSocket(bind=bind_location,\r\n",
      "  File \"/usr/local/share/pynq-venv/lib/python3.10/site-packages/Pyro4/socketutil.py\", line 300, in createSocket\r\n",
      "    sock.bind(bind)\r\n",
      "OSError: [Errno 98] Address already in use\r\n"
     ]
    }
   ],
   "source": [
    "!PYRO_SERIALIZERS_ACCEPTED=pickle PYRO_PICKLE_PROTOCOL_VERSION=4 pyro4-ns -n 172.16.26.2 -p 8888"
   ]
  },
  {
   "cell_type": "code",
   "execution_count": null,
   "id": "53ef1d5a",
   "metadata": {},
   "outputs": [],
   "source": []
  }
 ],
 "metadata": {
  "kernelspec": {
   "display_name": "Python 3 (ipykernel)",
   "language": "python",
   "name": "python3"
  },
  "language_info": {
   "codemirror_mode": {
    "name": "ipython",
    "version": 3
   },
   "file_extension": ".py",
   "mimetype": "text/x-python",
   "name": "python",
   "nbconvert_exporter": "python",
   "pygments_lexer": "ipython3",
   "version": "3.10.4"
  }
 },
 "nbformat": 4,
 "nbformat_minor": 5
}
