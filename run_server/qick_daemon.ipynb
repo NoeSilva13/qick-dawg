{
 "cells": [
  {
   "cell_type": "code",
   "execution_count": 2,
   "metadata": {},
   "outputs": [],
   "source": [
    "from qick import *\n",
    "\n",
    "qick_path = \"/home/xilinx/jupyter_notebooks/qick/alternative_firmware/RFSoC4x2_commonclk/qick_4x2.bit\"\n"
   ]
  },
  {
   "cell_type": "code",
   "execution_count": null,
   "metadata": {},
   "outputs": [
    {
     "name": "stdout",
     "output_type": "stream",
     "text": [
      "looking for nameserver . . .\n",
      "found nameserver\n"
     ]
    },
    {
     "data": {
      "application/javascript": "\ntry {\nrequire(['notebook/js/codecell'], function(codecell) {\n  codecell.CodeCell.options_default.highlight_modes[\n      'magic_text/x-csrc'] = {'reg':[/^%%microblaze/]};\n  Jupyter.notebook.events.one('kernel_ready.Kernel', function(){\n      Jupyter.notebook.get_cells().map(function(cell){\n          if (cell.cell_type == 'code'){ cell.auto_highlight(); } }) ;\n  });\n});\n} catch (e) {};\n"
     },
     "metadata": {},
     "output_type": "display_data"
    },
    {
     "data": {
      "application/javascript": "\ntry {\nrequire(['notebook/js/codecell'], function(codecell) {\n  codecell.CodeCell.options_default.highlight_modes[\n      'magic_text/x-csrc'] = {'reg':[/^%%pybind11/]};\n  Jupyter.notebook.events.one('kernel_ready.Kernel', function(){\n      Jupyter.notebook.get_cells().map(function(cell){\n          if (cell.cell_type == 'code'){ cell.auto_highlight(); } }) ;\n  });\n});\n} catch (e) {};\n"
     },
     "metadata": {},
     "output_type": "display_data"
    },
    {
     "name": "stdout",
     "output_type": "stream",
     "text": [
      "initialized QICK\n",
      "\n",
      "QICK configuration:\n",
      "\n",
      "\tBoard: RFSoC4x2\n",
      "\n",
      "\tGlobal clocks (MHz): tProcessor 350.000, RF reference 491.520\n",
      "\n",
      "\t2 signal generator channels:\n",
      "\t0:\taxis_signal_gen_v6 - tProc output 0, envelope memory 65536 samples\n",
      "\t\tDAC tile 0, blk 0, 32-bit DDS, fabric=614.400 MHz, f_dds=9830.400 MHz\n",
      "\t1:\taxis_signal_gen_v6 - tProc output 1, envelope memory 65536 samples\n",
      "\t\tDAC tile 2, blk 0, 32-bit DDS, fabric=614.400 MHz, f_dds=9830.400 MHz\n",
      "\n",
      "\t2 readout channels:\n",
      "\t0:\taxis_readout_v2 - controlled by PYNQ\n",
      "\t\tADC tile 0, blk 0, 32-bit DDS, fabric=491.520 MHz, fs=3932.160 MHz\n",
      "\t\tmaxlen 1024 (avg) 16384 (decimated), trigger bit 4, tProc input 0\n",
      "\t1:\taxis_readout_v2 - controlled by PYNQ\n",
      "\t\tADC tile 0, blk 1, 32-bit DDS, fabric=491.520 MHz, fs=3932.160 MHz\n",
      "\t\tmaxlen 1024 (avg) 16384 (decimated), trigger bit 5, tProc input 1\n",
      "\n",
      "\t2 DACs:\n",
      "\t\tDAC tile 0, blk 0 is DAC_B\n",
      "\t\tDAC tile 2, blk 0 is DAC_A\n",
      "\n",
      "\t2 ADCs:\n",
      "\t\tADC tile 0, blk 0 is ADC_D\n",
      "\t\tADC tile 0, blk 1 is ADC_C\n",
      "\n",
      "\t4 digital output pins (tProc output 7):\n",
      "\t0:\tPMOD0_0\n",
      "\t1:\tPMOD0_1\n",
      "\t2:\tPMOD0_2\n",
      "\t3:\tPMOD0_3\n",
      "\n",
      "\ttProc axis_tproc64x32_x8: program memory 1024 words, data memory 1024 words\n",
      "\t\texternal start pin: None\n",
      "registered QICK\n",
      "registered member <qick.streamer.DataStreamer object at 0xffff4bb0bee0>\n",
      "registered member <qick.drivers.tproc.AxisTProc64x32_x8 object at 0xffff4bbc7460>\n",
      "starting daemon\n"
     ]
    }
   ],
   "source": [
    "import Pyro4\n",
    "from qick import QickSoc, QickConfig\n",
    "\n",
    "ns_host = \"192.168.0.100\"\n",
    "ns_port = 8888\n",
    "\n",
    "server_name = \"myqick\"\n",
    "\n",
    "print(\"looking for nameserver . . .\")\n",
    "Pyro4.config.REQUIRE_EXPOSE = False\n",
    "Pyro4.config.SERIALIZER = \"pickle\"\n",
    "Pyro4.config.SERIALIZERS_ACCEPTED=set(['pickle'])\n",
    "Pyro4.config.PICKLE_PROTOCOL_VERSION=4\n",
    "ns = Pyro4.locateNS(host=ns_host, port=ns_port)\n",
    "print(\"found nameserver\")\n",
    "\n",
    "# if we have multiple network interfaces, we want to register the daemon using the IP address that faces the nameserver\n",
    "host = Pyro4.socketutil.getInterfaceAddress(ns._pyroUri.host)\n",
    "daemon = Pyro4.Daemon(host=host)\n",
    "\n",
    "# if you want to use a different firmware image or set some initialization options, you would do that here\n",
    "soc = QickSoc(bitfile=qick_path, force_init_clks=True)\n",
    "print(\"initialized QICK\")\n",
    "print(QickConfig(soc.get_cfg()))\n",
    "# register the QickSoc in the daemon (so the daemon exposes the QickSoc over Pyro4)\n",
    "# and in the nameserver (so the client can find the QickSoc)\n",
    "ns.register(server_name, daemon.register(soc))\n",
    "print(\"registered QICK\")\n",
    "\n",
    "# register in the daemon all the objects we expose as properties of the QickSoc\n",
    "# we don't register them in the nameserver, since they are only meant to be accessed through the QickSoc proxy\n",
    "# https://pyro4.readthedocs.io/en/stable/servercode.html#autoproxying\n",
    "# https://github.com/irmen/Pyro4/blob/master/examples/autoproxy/server.py\n",
    "for obj in soc.autoproxy:\n",
    "    daemon.register(obj)\n",
    "    print(\"registered member \"+str(obj))\n",
    "    \n",
    "print(\"starting daemon\")\n",
    "daemon.requestLoop() # this will run forever until interrupted"
   ]
  },
  {
   "cell_type": "code",
   "execution_count": null,
   "metadata": {},
   "outputs": [],
   "source": []
  }
 ],
 "metadata": {
  "kernelspec": {
   "display_name": "Python 3 (ipykernel)",
   "language": "python",
   "name": "python3"
  },
  "language_info": {
   "codemirror_mode": {
    "name": "ipython",
    "version": 3
   },
   "file_extension": ".py",
   "mimetype": "text/x-python",
   "name": "python",
   "nbconvert_exporter": "python",
   "pygments_lexer": "ipython3",
   "version": "3.10.4"
  }
 },
 "nbformat": 4,
 "nbformat_minor": 2
}
