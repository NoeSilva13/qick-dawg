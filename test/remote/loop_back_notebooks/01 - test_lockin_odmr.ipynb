{
 "cells": [
  {
   "cell_type": "code",
   "execution_count": 1,
   "id": "16392e8a",
   "metadata": {},
   "outputs": [],
   "source": [
    "%load_ext autoreload\n",
    "%autoreload 2\n",
    "\n",
    "import sys\n",
    "\n",
    "sys.path.append('/home/xilinx/jupyter_notebooks/qickdawg/src/')\n",
    "\n",
    "import qickdawg as qd\n",
    "from copy import copy\n",
    "import matplotlib.pyplot as plt\n",
    "import numpy as np"
   ]
  },
  {
   "cell_type": "code",
   "execution_count": 2,
   "id": "4be7aa4d",
   "metadata": {},
   "outputs": [
    {
     "data": {
      "application/javascript": [
       "\n",
       "try {\n",
       "require(['notebook/js/codecell'], function(codecell) {\n",
       "  codecell.CodeCell.options_default.highlight_modes[\n",
       "      'magic_text/x-csrc'] = {'reg':[/^%%microblaze/]};\n",
       "  Jupyter.notebook.events.one('kernel_ready.Kernel', function(){\n",
       "      Jupyter.notebook.get_cells().map(function(cell){\n",
       "          if (cell.cell_type == 'code'){ cell.auto_highlight(); } }) ;\n",
       "  });\n",
       "});\n",
       "} catch (e) {};\n"
      ]
     },
     "metadata": {},
     "output_type": "display_data"
    },
    {
     "data": {
      "application/javascript": [
       "\n",
       "try {\n",
       "require(['notebook/js/codecell'], function(codecell) {\n",
       "  codecell.CodeCell.options_default.highlight_modes[\n",
       "      'magic_text/x-csrc'] = {'reg':[/^%%pybind11/]};\n",
       "  Jupyter.notebook.events.one('kernel_ready.Kernel', function(){\n",
       "      Jupyter.notebook.get_cells().map(function(cell){\n",
       "          if (cell.cell_type == 'code'){ cell.auto_highlight(); } }) ;\n",
       "  });\n",
       "});\n",
       "} catch (e) {};\n"
      ]
     },
     "metadata": {},
     "output_type": "display_data"
    }
   ],
   "source": [
    "qd.start_client(bitfile=\"/home/xilinx/jupyter_notebooks/qickdawg/firmware/photon_counting/qick_4x2.bit\")"
   ]
  },
  {
   "cell_type": "code",
   "execution_count": 3,
   "id": "2e1b04d4",
   "metadata": {},
   "outputs": [],
   "source": [
    "default_config = qd.NVConfiguration()\n",
    "\n",
    "default_config.test = True\n",
    "default_config.mw_readout_channel = 1\n",
    "default_config.ddr4 = True\n",
    "default_config.ddr4_channel = 0\n",
    "default_config.n_ddr4_chunks = 1200\n",
    "\n",
    "default_config.adc_channel = 0 \n",
    "\n",
    "default_config.mw_channel = 1\n",
    "default_config.mw_nqz = 1\n",
    "default_config.mw_gain = 5000\n",
    "default_config.reps = 1\n",
    "\n",
    "default_config.laser_gate_pmod = 0\n",
    "\n",
    "default_config.relax_delay_treg = 100 # between each rep, wait for everything to catch up, mostly aom\n"
   ]
  },
  {
   "cell_type": "code",
   "execution_count": 4,
   "id": "029dea97",
   "metadata": {},
   "outputs": [
    {
     "name": "stdout",
     "output_type": "stream",
     "text": [
      "Approximate on intensity 1713.1078431372548 ADC units\n",
      "Approximate off intensity 0.4137254901960784 ADC units\n"
     ]
    }
   ],
   "source": [
    "config = copy(default_config)\n",
    "\n",
    "config.soft_avgs = 1\n",
    "config.readout_integration_treg = 1020\n",
    "prog = qd.LaserOn(config)\n",
    "_ = prog.acquire_decimated(progress=False)\n",
    "data = prog.acquire_decimated(progress=False)\n",
    "on_value  = np.mean(data)\n",
    "print('Approximate on intensity {} ADC units'.format(on_value))\n",
    "\n",
    "prog = qd.LaserOff(config)\n",
    "_ = prog.acquire_decimated(progress=False)\n",
    "data = prog.acquire_decimated(progress=False)\n",
    "off_value  = np.mean(data)\n",
    "print('Approximate off intensity {} ADC units'.format(off_value))\n"
   ]
  },
  {
   "cell_type": "code",
   "execution_count": 11,
   "id": "326a13e9",
   "metadata": {},
   "outputs": [
    {
     "name": "stdout",
     "output_type": "stream",
     "text": [
      "Warning: exact sweep condition not possible\n",
      "\n",
      "Requested 2000 to 2100 by 100\n",
      "Instead using 2000.0000003814696 to 2100.0 by 99.99999961853027 in 2 steps\n",
      "Warning: exact sweep condition not possible\n",
      "\n",
      "Requested 2000 to 2100 by 100\n",
      "Instead using 2000.0000003814696 to 2100.0 by 99.99999961853027 in 2 steps\n"
     ]
    }
   ],
   "source": [
    "for i in range(2):\n",
    "    \n",
    "    qd.soc.clear_ddr4()\n",
    "\n",
    "    config = copy(default_config)\n",
    "    config.readout_integration_treg = 2**16 - 1\n",
    "\n",
    "    config.mw_gain = 15000\n",
    "\n",
    "    config.pre_init = False\n",
    "    config.reps = 1\n",
    "    config.relax_delay_treg = 100\n",
    "\n",
    "    config.ddr4_channel = i\n",
    "\n",
    "    config.add_linear_sweep('mw', 'fMHz', start=2000, stop=2100, delta=100)\n",
    "\n",
    "    prog = qd.LockinODMR(config)\n",
    "    d = prog.acquire(raw_data = True)\n",
    "\n",
    "    if i == 0:\n",
    "        laser_ddr4 = qd.soc.get_ddr4(config.n_ddr4_chunks)[:, 0]\n",
    "    elif i == 1:\n",
    "        mw_ddr4 = qd.soc.get_ddr4(config.n_ddr4_chunks)\n",
    "        mw_real = mw_ddr4[:, 0]\n",
    "        mw_imag = mw_ddr4[:, 1]"
   ]
  },
  {
   "cell_type": "code",
   "execution_count": 12,
   "id": "b83c5cbf",
   "metadata": {},
   "outputs": [
    {
     "data": {
      "text/plain": [
       "<matplotlib.legend.Legend at 0xffff52e87610>"
      ]
     },
     "execution_count": 12,
     "metadata": {},
     "output_type": "execute_result"
    },
    {
     "name": "stderr",
     "output_type": "stream",
     "text": [
      "/usr/local/share/pynq-venv/lib/python3.10/site-packages/IPython/core/pylabtools.py:151: UserWarning: Creating legend with loc=\"best\" can be slow with large amounts of data.\n",
      "  fig.canvas.print_figure(bytes_io, **kw)\n"
     ]
    },
    {
     "data": {
      "image/png": "[encoded data removed]",
      "text/plain": [
       "<Figure size 432x288 with 1 Axes>"
      ]
     },
     "metadata": {
      "needs_background": "light"
     },
     "output_type": "display_data"
    }
   ],
   "source": [
    "phase = np.arctan(np.mean(mw_real[300:800]) / np.mean(mw_imag[300:800]))\n",
    "phase += np.pi/2\n",
    "\n",
    "x = mw_real * np.cos(phase) - mw_imag * np.sin(phase)\n",
    "y = mw_real * np.sin(phase) + mw_imag * np.cos(phase)\n",
    "\n",
    "plt.plot(laser_ddr4, label='Laser')\n",
    "plt.plot(mw_real, label='Microwave I')\n",
    "plt.plot(mw_imag, label='Microwave Q')\n",
    "\n",
    "plt.legend()"
   ]
  },
  {
   "cell_type": "code",
   "execution_count": 13,
   "id": "576dacb0",
   "metadata": {},
   "outputs": [
    {
     "name": "stdout",
     "output_type": "stream",
     "text": [
      "\n",
      "// Program\n",
      "\n",
      "                regwi 1, $22, 436906666;        //freq = 1747626667\n",
      "                bitwi 1, $22, $22 << 2;\n",
      "                mathi 1, $22, $22 + 3;\n",
      "                regwi 1, $23, 0;                //phase = 0\n",
      "                regwi 1, $25, 15000;            //gain = 15000\n",
      "                regwi 1, $26, 655359;           //phrst| stdysel | mode | | outsel = 0b01001 | length = 65535 \n",
      "                synci 100;\n",
      "                regwi 0, $16, 8192;             //out = 0b0010000000000000\n",
      "                seti 7, 0, $16, 0;              //ch =0 out = $16 @t = 0\n",
      "                seti 7, 0, $0, 10;              //ch =0 out = 0 @t = 0\n",
      "                synci 100;\n",
      "                regwi 0, $13, 0;\n",
      "                regwi 0, $14, 0;\n",
      "LOOP_rep:       regwi 1, $22, 436906666;        //'gen1_freq' <= 1747626667 (2000.0000003814696 MHz)\n",
      "                bitwi 1, $22, $22 << 2;\n",
      "                mathi 1, $22, $22 + 3;\n",
      "                regwi 0, $17, 1;\n",
      "LOOP_gen1_freq: regwi 1, $27, 0;                //t = 0\n",
      "                set 1, 1, $22, $23, $0, $25, $26, $27;//ch = 1, pulse @t = $27\n",
      "                regwi 0, $16, 49153;            //out = 0b1100000000000001\n",
      "                seti 7, 0, $16, 0;              //ch =0 out = $16 @t = 0\n",
      "                regwi 0, $16, 1;                //out = 0b0000000000000001\n",
      "                seti 7, 0, $16, 65535;          //ch =0 out = $16 @t = 65535\n",
      "                regwi 0, $16, 49153;            //out = 0b1100000000000001\n",
      "                seti 7, 0, $16, 65635;          //ch =0 out = $16 @t = 65635\n",
      "                seti 7, 0, $0, 131170;          //ch =0 out = 0 @t = 65635\n",
      "                waiti 0, 131170;\n",
      "                synci 131270;\n",
      "                mathi 0, $13, $13 + 1;\n",
      "                memwi 0, $13, 1;\n",
      "                mathi 1, $22, $22 + 87381333;   // 'gen1_freq' <= 'gen1_freq' + 87381333 (99.99999961853041 MHz)\n",
      "                loopnz 0, $17, @LOOP_gen1_freq;\n",
      "                loopnz 0, $14, @LOOP_rep;\n",
      "                end ;\n"
     ]
    }
   ],
   "source": [
    "print(prog.asm())"
   ]
  }
 ],
 "metadata": {
  "kernelspec": {
   "display_name": "Python 3 (ipykernel)",
   "language": "python",
   "name": "python3"
  },
  "language_info": {
   "codemirror_mode": {
    "name": "ipython",
    "version": 3
   },
   "file_extension": ".py",
   "mimetype": "text/x-python",
   "name": "python",
   "nbconvert_exporter": "python",
   "pygments_lexer": "ipython3",
   "version": "3.10.4"
  }
 },
 "nbformat": 4,
 "nbformat_minor": 5
}
