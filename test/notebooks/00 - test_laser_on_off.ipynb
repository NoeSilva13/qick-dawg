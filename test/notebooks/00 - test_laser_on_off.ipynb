{
 "cells": [
  {
   "cell_type": "code",
   "execution_count": 1,
   "id": "16392e8a",
   "metadata": {},
   "outputs": [],
   "source": [
    "%load_ext autoreload\n",
    "%autoreload 2\n",
    "\n",
    "import sys\n",
    "\n",
    "sys.path.append('/home/xilinx/jupyter_notebooks/qickdawg/src/')\n",
    "\n",
    "import qickdawg as qd\n",
    "from copy import copy\n",
    "import matplotlib.pyplot as plt"
   ]
  },
  {
   "cell_type": "code",
   "execution_count": 2,
   "id": "4be7aa4d",
   "metadata": {},
   "outputs": [
    {
     "data": {
      "application/javascript": [
       "\n",
       "try {\n",
       "require(['notebook/js/codecell'], function(codecell) {\n",
       "  codecell.CodeCell.options_default.highlight_modes[\n",
       "      'magic_text/x-csrc'] = {'reg':[/^%%microblaze/]};\n",
       "  Jupyter.notebook.events.one('kernel_ready.Kernel', function(){\n",
       "      Jupyter.notebook.get_cells().map(function(cell){\n",
       "          if (cell.cell_type == 'code'){ cell.auto_highlight(); } }) ;\n",
       "  });\n",
       "});\n",
       "} catch (e) {};\n"
      ]
     },
     "metadata": {},
     "output_type": "display_data"
    },
    {
     "data": {
      "application/javascript": [
       "\n",
       "try {\n",
       "require(['notebook/js/codecell'], function(codecell) {\n",
       "  codecell.CodeCell.options_default.highlight_modes[\n",
       "      'magic_text/x-csrc'] = {'reg':[/^%%pybind11/]};\n",
       "  Jupyter.notebook.events.one('kernel_ready.Kernel', function(){\n",
       "      Jupyter.notebook.get_cells().map(function(cell){\n",
       "          if (cell.cell_type == 'code'){ cell.auto_highlight(); } }) ;\n",
       "  });\n",
       "});\n",
       "} catch (e) {};\n"
      ]
     },
     "metadata": {},
     "output_type": "display_data"
    }
   ],
   "source": [
    "qd.start_client(bitfile=\"/home/xilinx/jupyter_notebooks/qickdawg/firmware/photon_counting/qick_4x2.bit\")"
   ]
  },
  {
   "cell_type": "code",
   "execution_count": 3,
   "id": "60eed4f6",
   "metadata": {},
   "outputs": [],
   "source": [
    "min_step_us = qd.soccfg.cycles2us(1) # this is the minimum step size in us, which is the time for one clock cycle\n",
    "min_step_ns = min_step_us*1e3\n",
    "max_int_time_us = min_step_us * (2**16 - 1)\n",
    "max_int_time_ns = min_step_ns * (2**16 - 1)"
   ]
  },
  {
   "cell_type": "code",
   "execution_count": 5,
   "id": "2e1b04d4",
   "metadata": {},
   "outputs": [],
   "source": [
    "default_config = qd.NVConfiguration()\n",
    "\n",
    "default_config.adc_channel = 0 \n",
    "\n",
    "default_config.mw_channel = 0\n",
    "default_config.mw_nqz = 1\n",
    "default_config.mw_gain = 5000\n",
    "default_config.reps = 1\n",
    "\n",
    "default_config.ddr4 = True\n",
    "default_config.ddr4_channel = 0\n",
    "default_config.n_ddr4_chunks = 10\n",
    "\n",
    "default_config.laser_gate_pmod = 0\n",
    "\n",
    "default_config.relax_delay_treg = 150 # between each rep, wait for everything to catch up, mostly aom\n"
   ]
  },
  {
   "cell_type": "code",
   "execution_count": 13,
   "id": "029dea97",
   "metadata": {},
   "outputs": [
    {
     "data": {
      "application/vnd.jupyter.widget-view+json": {
       "model_id": "8d526fb807b84bb2a7e7e065bb3f7ded",
       "version_major": 2,
       "version_minor": 0
      },
      "text/plain": [
       "  0%|          | 0/1 [00:00<?, ?it/s]"
      ]
     },
     "metadata": {},
     "output_type": "display_data"
    }
   ],
   "source": [
    "qd.soc.clear_ddr4()\n",
    "\n",
    "config = copy(default_config)\n",
    "\n",
    "config.soft_avgs = 1\n",
    "config.readout_integration_treg = 1020\n",
    "prog = qd.LaserOn(config)\n",
    "data = prog.acquire_decimated()\n"
   ]
  },
  {
   "cell_type": "code",
   "execution_count": 14,
   "id": "f4b09261",
   "metadata": {},
   "outputs": [
    {
     "data": {
      "image/png": "[encoded data removed]",
      "text/plain": [
       "<Figure size 432x288 with 1 Axes>"
      ]
     },
     "metadata": {
      "needs_background": "light"
     },
     "output_type": "display_data"
    }
   ],
   "source": [
    "iq_ddr4 = qd.soc.get_ddr4(10)\n",
    "\n",
    "plt.plot(data, label='Average Buffer')\n",
    "\n",
    "plt.plot(iq_ddr4[90:,0],label=\"DDR4\")\n",
    "plt.xlabel(\"sample number [fabric ticks]\")\n",
    "plt.legend();\n",
    "plt.show()\n"
   ]
  },
  {
   "cell_type": "code",
   "execution_count": 15,
   "id": "326a13e9",
   "metadata": {},
   "outputs": [
    {
     "name": "stdout",
     "output_type": "stream",
     "text": [
      "\n",
      "// Program\n",
      "\n",
      "          synci 100;\n",
      "          regwi 0, $16, 8192;                   //out = 0b0010000000000000\n",
      "          seti 7, 0, $16, 0;                    //ch =0 out = $16 @t = 0\n",
      "          seti 7, 0, $0, 10;                    //ch =0 out = 0 @t = 0\n",
      "          synci 100;\n",
      "          regwi 0, $13, 0;\n",
      "          regwi 0, $14, 0;\n",
      "LOOP_rep: regwi 0, $16, 16385;                  //out = 0b0100000000000001\n",
      "          seti 7, 0, $16, 0;                    //ch =0 out = $16 @t = 0\n",
      "          waiti 0, 1020;\n",
      "          synci 150;\n",
      "          mathi 0, $13, $13 + 1;\n",
      "          memwi 0, $13, 1;\n",
      "          loopnz 0, $14, @LOOP_rep;\n",
      "          end ;\n"
     ]
    }
   ],
   "source": [
    "print(prog.asm())"
   ]
  },
  {
   "cell_type": "code",
   "execution_count": 16,
   "id": "2687fc5e",
   "metadata": {},
   "outputs": [
    {
     "data": {
      "application/vnd.jupyter.widget-view+json": {
       "model_id": "75485c21e0514931a89e2e77127907f4",
       "version_major": 2,
       "version_minor": 0
      },
      "text/plain": [
       "  0%|          | 0/1 [00:00<?, ?it/s]"
      ]
     },
     "metadata": {},
     "output_type": "display_data"
    }
   ],
   "source": [
    "qd.soc.clear_ddr4()\n",
    "\n",
    "config = copy(default_config)\n",
    "\n",
    "config.soft_avgs = 1\n",
    "config.readout_integration_treg = 1020\n",
    "config.adc_trigger_offset_treg = 0\n",
    "prog = qd.LaserOff(config)\n",
    "\n",
    "data = prog.acquire_decimated(readouts_per_experiment=1)"
   ]
  },
  {
   "cell_type": "code",
   "execution_count": 17,
   "id": "df0bb00d",
   "metadata": {},
   "outputs": [
    {
     "data": {
      "image/png": "[encoded data removed]",
      "text/plain": [
       "<Figure size 432x288 with 1 Axes>"
      ]
     },
     "metadata": {
      "needs_background": "light"
     },
     "output_type": "display_data"
    }
   ],
   "source": [
    "iq_ddr4 = qd.soc.get_ddr4(15)\n",
    "\n",
    "plt.plot(iq_ddr4[78+1030:,0],label=\"DDR4\")\n",
    "plt.plot(data, label=\"Average Buffer\")\n",
    "\n",
    "plt.xlabel(\"sample number [fabric ticks]\")\n",
    "plt.legend();\n",
    "plt.show()\n"
   ]
  },
  {
   "cell_type": "code",
   "execution_count": 18,
   "id": "28a38a4e",
   "metadata": {},
   "outputs": [
    {
     "name": "stdout",
     "output_type": "stream",
     "text": [
      "\n",
      "// Program\n",
      "\n",
      "          synci 100;\n",
      "          regwi 0, $16, 8192;                   //out = 0b0010000000000000\n",
      "          seti 7, 0, $16, 0;                    //ch =0 out = $16 @t = 0\n",
      "          seti 7, 0, $0, 10;                    //ch =0 out = 0 @t = 0\n",
      "          synci 100;\n",
      "          regwi 0, $16, 1;                      //out = 0b0000000000000001\n",
      "          seti 7, 0, $16, 0;                    //ch =0 out = $16 @t = 0\n",
      "          seti 7, 0, $0, 10;                    //ch =0 out = 0 @t = 0\n",
      "          synci 1020;\n",
      "          regwi 0, $13, 0;\n",
      "          regwi 0, $14, 0;\n",
      "LOOP_rep: regwi 0, $16, 16384;                  //out = 0b0100000000000000\n",
      "          seti 7, 0, $16, 0;                    //ch =0 out = $16 @t = 0\n",
      "          seti 7, 0, $0, 10;                    //ch =0 out = 0 @t = 0\n",
      "          waiti 0, 1020;\n",
      "          synci 150;\n",
      "          mathi 0, $13, $13 + 1;\n",
      "          memwi 0, $13, 1;\n",
      "          loopnz 0, $14, @LOOP_rep;\n",
      "          end ;\n"
     ]
    }
   ],
   "source": [
    "print(prog.asm())"
   ]
  },
  {
   "cell_type": "code",
   "execution_count": null,
   "id": "63f7cea1",
   "metadata": {},
   "outputs": [],
   "source": []
  }
 ],
 "metadata": {
  "kernelspec": {
   "display_name": "Python 3 (ipykernel)",
   "language": "python",
   "name": "python3"
  },
  "language_info": {
   "codemirror_mode": {
    "name": "ipython",
    "version": 3
   },
   "file_extension": ".py",
   "mimetype": "text/x-python",
   "name": "python",
   "nbconvert_exporter": "python",
   "pygments_lexer": "ipython3",
   "version": "3.10.4"
  }
 },
 "nbformat": 4,
 "nbformat_minor": 5
}
