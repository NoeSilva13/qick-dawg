{
 "cells": [
  {
   "cell_type": "code",
   "execution_count": 1,
   "id": "16392e8a",
   "metadata": {},
   "outputs": [],
   "source": [
    "%load_ext autoreload\n",
    "%autoreload 2\n",
    "\n",
    "import sys\n",
    "\n",
    "sys.path.append('/home/xilinx/jupyter_notebooks/qickdawg/src/')\n",
    "\n",
    "import qickdawg as qd\n",
    "from copy import copy\n",
    "import matplotlib.pyplot as plt\n",
    "import numpy as np\n",
    "from scipy.signal import find_peaks"
   ]
  },
  {
   "cell_type": "code",
   "execution_count": 2,
   "id": "4be7aa4d",
   "metadata": {},
   "outputs": [
    {
     "data": {
      "application/javascript": [
       "\n",
       "try {\n",
       "require(['notebook/js/codecell'], function(codecell) {\n",
       "  codecell.CodeCell.options_default.highlight_modes[\n",
       "      'magic_text/x-csrc'] = {'reg':[/^%%microblaze/]};\n",
       "  Jupyter.notebook.events.one('kernel_ready.Kernel', function(){\n",
       "      Jupyter.notebook.get_cells().map(function(cell){\n",
       "          if (cell.cell_type == 'code'){ cell.auto_highlight(); } }) ;\n",
       "  });\n",
       "});\n",
       "} catch (e) {};\n"
      ]
     },
     "metadata": {},
     "output_type": "display_data"
    },
    {
     "data": {
      "application/javascript": [
       "\n",
       "try {\n",
       "require(['notebook/js/codecell'], function(codecell) {\n",
       "  codecell.CodeCell.options_default.highlight_modes[\n",
       "      'magic_text/x-csrc'] = {'reg':[/^%%pybind11/]};\n",
       "  Jupyter.notebook.events.one('kernel_ready.Kernel', function(){\n",
       "      Jupyter.notebook.get_cells().map(function(cell){\n",
       "          if (cell.cell_type == 'code'){ cell.auto_highlight(); } }) ;\n",
       "  });\n",
       "});\n",
       "} catch (e) {};\n"
      ]
     },
     "metadata": {},
     "output_type": "display_data"
    }
   ],
   "source": [
    "qd.start_client(bitfile=\"/home/xilinx/jupyter_notebooks/qickdawg/firmware/photon_counting/qick_4x2.bit\")"
   ]
  },
  {
   "cell_type": "code",
   "execution_count": 3,
   "id": "60eed4f6",
   "metadata": {},
   "outputs": [],
   "source": [
    "min_step_us = qd.soccfg.cycles2us(1) # this is the minimum step size in us, which is the time for one clock cycle\n",
    "min_step_ns = min_step_us*1e3\n",
    "max_int_time_us = min_step_us * (2**16 - 1)\n",
    "max_int_time_ns = min_step_ns * (2**16 - 1)"
   ]
  },
  {
   "cell_type": "code",
   "execution_count": 46,
   "id": "2e1b04d4",
   "metadata": {},
   "outputs": [],
   "source": [
    "default_config = qd.NVConfiguration()\n",
    "\n",
    "default_config.test = True\n",
    "default_config.mw_readout_channel = 1\n",
    "default_config.ddr4 = True\n",
    "default_config.ddr4_channel = 0\n",
    "default_config.n_ddr4_chunks = 20000\n",
    "\n",
    "default_config.adc_channel = 0 \n",
    "\n",
    "default_config.mw_channel = 1\n",
    "default_config.mw_nqz = 1\n",
    "default_config.mw_gain = 5000\n",
    "\n",
    "default_config.laser_gate_pmod = 0\n",
    "\n",
    "default_config.relax_delay_treg = 100 # between each rep, wait for everything to catch up, mostly aom\n"
   ]
  },
  {
   "cell_type": "code",
   "execution_count": 47,
   "id": "029dea97",
   "metadata": {},
   "outputs": [
    {
     "name": "stdout",
     "output_type": "stream",
     "text": [
      "Approximate on intensity 1709.9343137254903 ADC units\n",
      "Approximate off intensity 1.2549019607843137 ADC units\n"
     ]
    }
   ],
   "source": [
    "config = copy(default_config)\n",
    "\n",
    "config.soft_avgs = 1\n",
    "config.readout_integration_treg = 1020\n",
    "prog = qd.LaserOn(config)\n",
    "_ = prog.acquire_decimated(progress=False)\n",
    "data = prog.acquire_decimated(progress=False)\n",
    "on_value  = np.mean(data)\n",
    "print('Approximate on intensity {} ADC units'.format(on_value))\n",
    "\n",
    "prog = qd.LaserOff(config)\n",
    "_ = prog.acquire_decimated(progress=False)\n",
    "data = prog.acquire_decimated(progress=False)\n",
    "off_value  = np.mean(data)\n",
    "print('Approximate off intensity {} ADC units'.format(off_value))\n"
   ]
  },
  {
   "cell_type": "code",
   "execution_count": 60,
   "id": "326a13e9",
   "metadata": {},
   "outputs": [
    {
     "data": {
      "application/vnd.jupyter.widget-view+json": {
       "model_id": "4dc0c77cda7d43f5b94fc3e35d25dafc",
       "version_major": 2,
       "version_minor": 0
      },
      "text/plain": [
       "  0%|          | 0/32 [00:00<?, ?it/s]"
      ]
     },
     "metadata": {},
     "output_type": "display_data"
    },
    {
     "data": {
      "application/vnd.jupyter.widget-view+json": {
       "model_id": "23047d40806a46039dbc7abad210d1c4",
       "version_major": 2,
       "version_minor": 0
      },
      "text/plain": [
       "  0%|          | 0/32 [00:00<?, ?it/s]"
      ]
     },
     "metadata": {},
     "output_type": "display_data"
    }
   ],
   "source": [
    "for i in range(2):\n",
    "    \n",
    "    qd.soc.clear_ddr4()\n",
    "\n",
    "    config = copy(default_config)\n",
    "    \n",
    "    config.mw_gain = 30000\n",
    "    config.mw_fMHz = 2870\n",
    "    config.mw_pi2_treg = 100\n",
    "    \n",
    "    config.pre_init = False\n",
    "\n",
    "    config.relax_delay_treg = 100\n",
    "\n",
    "    config.laser_on_treg = 5000 # in us\n",
    "    config.readout_integration_treg = 700  # us\n",
    "    config.readout_reference_start_treg = 3500 # us\n",
    "\n",
    "    config.laser_readout_offset_treg = 0 #\n",
    "    config.mw_readout_delay_treg = 100\n",
    "\n",
    "    config.add_exponential_sweep('delay', 'tus', start=0.05, stop=10000, scaling_factor='3/2')\n",
    "\n",
    "    config.reps = 1\n",
    "\n",
    "    config.ddr4_channel = i\n",
    "\n",
    "    prog = qd.T1DelaySweep(config)\n",
    "    d = prog.acquire(progress=True)\n",
    "\n",
    "    if i == 0:\n",
    "        laser_ddr4 = qd.soc.get_ddr4(config.n_ddr4_chunks)[:, 0]\n",
    "    elif i == 1:\n",
    "        mw_ddr4 = qd.soc.get_ddr4(config.n_ddr4_chunks)\n",
    "        mw_real = mw_ddr4[:, 0]\n",
    "        mw_imag = mw_ddr4[:, 1]"
   ]
  },
  {
   "cell_type": "code",
   "execution_count": 61,
   "id": "b83c5cbf",
   "metadata": {},
   "outputs": [],
   "source": [
    "phase = 0.21\n",
    "phase = np.arctan(np.mean(mw_real[300:800]) / np.mean(mw_imag[300:800]))\n",
    "phase -= np.pi/2\n",
    "\n",
    "x = mw_real * np.cos(phase) - mw_imag * np.sin(phase)\n",
    "y = mw_real * np.sin(phase) + mw_imag * np.cos(phase)\n",
    "\n",
    "# plt.plot(laser_ddr4, label='Laser')\n",
    "# plt.plot(x, label='Microwave I')\n",
    "# plt.plot(y, label='Microwave Q')\n",
    "# # plt.xlim(0, 1200)\n",
    "# plt.legend()"
   ]
  },
  {
   "cell_type": "code",
   "execution_count": 62,
   "id": "576dacb0",
   "metadata": {},
   "outputs": [
    {
     "data": {
      "text/plain": [
       "[<matplotlib.lines.Line2D at 0xfffd24db1f00>]"
      ]
     },
     "execution_count": 62,
     "metadata": {},
     "output_type": "execute_result"
    },
    {
     "data": {
      "image/png": "[encoded data removed]",
      "text/plain": [
       "<Figure size 432x288 with 1 Axes>"
      ]
     },
     "metadata": {
      "needs_background": "light"
     },
     "output_type": "display_data"
    }
   ],
   "source": [
    "plt.plot(np.gradient(x))"
   ]
  },
  {
   "cell_type": "code",
   "execution_count": 63,
   "id": "41d766e0",
   "metadata": {},
   "outputs": [],
   "source": [
    "laser_start_treg = find_peaks(np.gradient(laser_ddr4), height=200)[0]\n",
    "laser_end_treg = find_peaks(np.gradient(-laser_ddr4), height=200)[0]\n",
    "mw_start_treg = find_peaks(np.gradient(np.abs(x)), height=150)[0]\n",
    "mw_end_treg = find_peaks(np.gradient(-np.abs(x)), height=150)[0]\n",
    "\n",
    "laser_norm = laser_ddr4 /np.max(laser_ddr4)\n",
    "x_norm = x /np.max(x)"
   ]
  },
  {
   "cell_type": "code",
   "execution_count": 74,
   "id": "f0979e62",
   "metadata": {},
   "outputs": [
    {
     "ename": "KeyboardInterrupt",
     "evalue": "",
     "output_type": "error",
     "traceback": [
      "\u001b[0;31m---------------------------------------------------------------------------\u001b[0m",
      "\u001b[0;31mKeyboardInterrupt\u001b[0m                         Traceback (most recent call last)",
      "Input \u001b[0;32mIn [74]\u001b[0m, in \u001b[0;36m<cell line: 5>\u001b[0;34m()\u001b[0m\n\u001b[1;32m      3\u001b[0m \u001b[38;5;66;03m# plt.plot(y, label='Microwave Q')\u001b[39;00m\n\u001b[1;32m      4\u001b[0m plt\u001b[38;5;241m.\u001b[39mlegend()\n\u001b[0;32m----> 5\u001b[0m \u001b[43mplt\u001b[49m\u001b[38;5;241;43m.\u001b[39;49m\u001b[43mshow\u001b[49m\u001b[43m(\u001b[49m\u001b[43m)\u001b[49m\n\u001b[1;32m      7\u001b[0m \u001b[38;5;28;01mfor\u001b[39;00m i \u001b[38;5;129;01min\u001b[39;00m \u001b[38;5;28mrange\u001b[39m(\u001b[38;5;28mlen\u001b[39m(mw_start_treg) \u001b[38;5;241m-\u001b[39m \u001b[38;5;241m5\u001b[39m):\n\u001b[1;32m      8\u001b[0m     plt\u001b[38;5;241m.\u001b[39mplot(x_norm[mw_start_treg[i]: laser_end_treg[\u001b[38;5;241m2\u001b[39m \u001b[38;5;241m*\u001b[39m i]] \u001b[38;5;241m+\u001b[39m i \u001b[38;5;241m*\u001b[39m \u001b[38;5;241m1.5\u001b[39m)\n",
      "File \u001b[0;32m/usr/lib/python3/dist-packages/matplotlib/pyplot.py:368\u001b[0m, in \u001b[0;36mshow\u001b[0;34m(*args, **kwargs)\u001b[0m\n\u001b[1;32m    324\u001b[0m \u001b[38;5;124;03m\"\"\"\u001b[39;00m\n\u001b[1;32m    325\u001b[0m \u001b[38;5;124;03mDisplay all open figures.\u001b[39;00m\n\u001b[1;32m    326\u001b[0m \n\u001b[0;32m   (...)\u001b[0m\n\u001b[1;32m    365\u001b[0m \u001b[38;5;124;03mexplicitly there.\u001b[39;00m\n\u001b[1;32m    366\u001b[0m \u001b[38;5;124;03m\"\"\"\u001b[39;00m\n\u001b[1;32m    367\u001b[0m _warn_if_gui_out_of_main_thread()\n\u001b[0;32m--> 368\u001b[0m \u001b[38;5;28;01mreturn\u001b[39;00m \u001b[43m_backend_mod\u001b[49m\u001b[38;5;241;43m.\u001b[39;49m\u001b[43mshow\u001b[49m\u001b[43m(\u001b[49m\u001b[38;5;241;43m*\u001b[39;49m\u001b[43margs\u001b[49m\u001b[43m,\u001b[49m\u001b[43m \u001b[49m\u001b[38;5;241;43m*\u001b[39;49m\u001b[38;5;241;43m*\u001b[39;49m\u001b[43mkwargs\u001b[49m\u001b[43m)\u001b[49m\n",
      "File \u001b[0;32m/usr/local/share/pynq-venv/lib/python3.10/site-packages/matplotlib_inline/backend_inline.py:41\u001b[0m, in \u001b[0;36mshow\u001b[0;34m(close, block)\u001b[0m\n\u001b[1;32m     39\u001b[0m \u001b[38;5;28;01mtry\u001b[39;00m:\n\u001b[1;32m     40\u001b[0m     \u001b[38;5;28;01mfor\u001b[39;00m figure_manager \u001b[38;5;129;01min\u001b[39;00m Gcf\u001b[38;5;241m.\u001b[39mget_all_fig_managers():\n\u001b[0;32m---> 41\u001b[0m         \u001b[43mdisplay\u001b[49m\u001b[43m(\u001b[49m\n\u001b[1;32m     42\u001b[0m \u001b[43m            \u001b[49m\u001b[43mfigure_manager\u001b[49m\u001b[38;5;241;43m.\u001b[39;49m\u001b[43mcanvas\u001b[49m\u001b[38;5;241;43m.\u001b[39;49m\u001b[43mfigure\u001b[49m\u001b[43m,\u001b[49m\n\u001b[1;32m     43\u001b[0m \u001b[43m            \u001b[49m\u001b[43mmetadata\u001b[49m\u001b[38;5;241;43m=\u001b[39;49m\u001b[43m_fetch_figure_metadata\u001b[49m\u001b[43m(\u001b[49m\u001b[43mfigure_manager\u001b[49m\u001b[38;5;241;43m.\u001b[39;49m\u001b[43mcanvas\u001b[49m\u001b[38;5;241;43m.\u001b[39;49m\u001b[43mfigure\u001b[49m\u001b[43m)\u001b[49m\n\u001b[1;32m     44\u001b[0m \u001b[43m        \u001b[49m\u001b[43m)\u001b[49m\n\u001b[1;32m     45\u001b[0m \u001b[38;5;28;01mfinally\u001b[39;00m:\n\u001b[1;32m     46\u001b[0m     show\u001b[38;5;241m.\u001b[39m_to_draw \u001b[38;5;241m=\u001b[39m []\n",
      "File \u001b[0;32m/usr/local/share/pynq-venv/lib/python3.10/site-packages/IPython/core/display_functions.py:298\u001b[0m, in \u001b[0;36mdisplay\u001b[0;34m(include, exclude, metadata, transient, display_id, raw, clear, *objs, **kwargs)\u001b[0m\n\u001b[1;32m    296\u001b[0m     publish_display_data(data\u001b[38;5;241m=\u001b[39mobj, metadata\u001b[38;5;241m=\u001b[39mmetadata, \u001b[38;5;241m*\u001b[39m\u001b[38;5;241m*\u001b[39mkwargs)\n\u001b[1;32m    297\u001b[0m \u001b[38;5;28;01melse\u001b[39;00m:\n\u001b[0;32m--> 298\u001b[0m     format_dict, md_dict \u001b[38;5;241m=\u001b[39m \u001b[38;5;28;43mformat\u001b[39;49m\u001b[43m(\u001b[49m\u001b[43mobj\u001b[49m\u001b[43m,\u001b[49m\u001b[43m \u001b[49m\u001b[43minclude\u001b[49m\u001b[38;5;241;43m=\u001b[39;49m\u001b[43minclude\u001b[49m\u001b[43m,\u001b[49m\u001b[43m \u001b[49m\u001b[43mexclude\u001b[49m\u001b[38;5;241;43m=\u001b[39;49m\u001b[43mexclude\u001b[49m\u001b[43m)\u001b[49m\n\u001b[1;32m    299\u001b[0m     \u001b[38;5;28;01mif\u001b[39;00m \u001b[38;5;129;01mnot\u001b[39;00m format_dict:\n\u001b[1;32m    300\u001b[0m         \u001b[38;5;66;03m# nothing to display (e.g. _ipython_display_ took over)\u001b[39;00m\n\u001b[1;32m    301\u001b[0m         \u001b[38;5;28;01mcontinue\u001b[39;00m\n",
      "File \u001b[0;32m/usr/local/share/pynq-venv/lib/python3.10/site-packages/IPython/core/formatters.py:178\u001b[0m, in \u001b[0;36mDisplayFormatter.format\u001b[0;34m(self, obj, include, exclude)\u001b[0m\n\u001b[1;32m    176\u001b[0m md \u001b[38;5;241m=\u001b[39m \u001b[38;5;28;01mNone\u001b[39;00m\n\u001b[1;32m    177\u001b[0m \u001b[38;5;28;01mtry\u001b[39;00m:\n\u001b[0;32m--> 178\u001b[0m     data \u001b[38;5;241m=\u001b[39m \u001b[43mformatter\u001b[49m\u001b[43m(\u001b[49m\u001b[43mobj\u001b[49m\u001b[43m)\u001b[49m\n\u001b[1;32m    179\u001b[0m \u001b[38;5;28;01mexcept\u001b[39;00m:\n\u001b[1;32m    180\u001b[0m     \u001b[38;5;66;03m# FIXME: log the exception\u001b[39;00m\n\u001b[1;32m    181\u001b[0m     \u001b[38;5;28;01mraise\u001b[39;00m\n",
      "File \u001b[0;32m<decorator-gen-2>:2\u001b[0m, in \u001b[0;36m__call__\u001b[0;34m(self, obj)\u001b[0m\n",
      "File \u001b[0;32m/usr/local/share/pynq-venv/lib/python3.10/site-packages/IPython/core/formatters.py:222\u001b[0m, in \u001b[0;36mcatch_format_error\u001b[0;34m(method, self, *args, **kwargs)\u001b[0m\n\u001b[1;32m    220\u001b[0m \u001b[38;5;124;03m\"\"\"show traceback on failed format call\"\"\"\u001b[39;00m\n\u001b[1;32m    221\u001b[0m \u001b[38;5;28;01mtry\u001b[39;00m:\n\u001b[0;32m--> 222\u001b[0m     r \u001b[38;5;241m=\u001b[39m \u001b[43mmethod\u001b[49m\u001b[43m(\u001b[49m\u001b[38;5;28;43mself\u001b[39;49m\u001b[43m,\u001b[49m\u001b[43m \u001b[49m\u001b[38;5;241;43m*\u001b[39;49m\u001b[43margs\u001b[49m\u001b[43m,\u001b[49m\u001b[43m \u001b[49m\u001b[38;5;241;43m*\u001b[39;49m\u001b[38;5;241;43m*\u001b[39;49m\u001b[43mkwargs\u001b[49m\u001b[43m)\u001b[49m\n\u001b[1;32m    223\u001b[0m \u001b[38;5;28;01mexcept\u001b[39;00m \u001b[38;5;167;01mNotImplementedError\u001b[39;00m:\n\u001b[1;32m    224\u001b[0m     \u001b[38;5;66;03m# don't warn on NotImplementedErrors\u001b[39;00m\n\u001b[1;32m    225\u001b[0m     \u001b[38;5;28;01mreturn\u001b[39;00m \u001b[38;5;28mself\u001b[39m\u001b[38;5;241m.\u001b[39m_check_return(\u001b[38;5;28;01mNone\u001b[39;00m, args[\u001b[38;5;241m0\u001b[39m])\n",
      "File \u001b[0;32m/usr/local/share/pynq-venv/lib/python3.10/site-packages/IPython/core/formatters.py:339\u001b[0m, in \u001b[0;36mBaseFormatter.__call__\u001b[0;34m(self, obj)\u001b[0m\n\u001b[1;32m    337\u001b[0m     \u001b[38;5;28;01mpass\u001b[39;00m\n\u001b[1;32m    338\u001b[0m \u001b[38;5;28;01melse\u001b[39;00m:\n\u001b[0;32m--> 339\u001b[0m     \u001b[38;5;28;01mreturn\u001b[39;00m \u001b[43mprinter\u001b[49m\u001b[43m(\u001b[49m\u001b[43mobj\u001b[49m\u001b[43m)\u001b[49m\n\u001b[1;32m    340\u001b[0m \u001b[38;5;66;03m# Finally look for special method names\u001b[39;00m\n\u001b[1;32m    341\u001b[0m method \u001b[38;5;241m=\u001b[39m get_real_method(obj, \u001b[38;5;28mself\u001b[39m\u001b[38;5;241m.\u001b[39mprint_method)\n",
      "File \u001b[0;32m/usr/local/share/pynq-venv/lib/python3.10/site-packages/IPython/core/pylabtools.py:151\u001b[0m, in \u001b[0;36mprint_figure\u001b[0;34m(fig, fmt, bbox_inches, base64, **kwargs)\u001b[0m\n\u001b[1;32m    148\u001b[0m     \u001b[38;5;28;01mfrom\u001b[39;00m \u001b[38;5;21;01mmatplotlib\u001b[39;00m\u001b[38;5;21;01m.\u001b[39;00m\u001b[38;5;21;01mbackend_bases\u001b[39;00m \u001b[38;5;28;01mimport\u001b[39;00m FigureCanvasBase\n\u001b[1;32m    149\u001b[0m     FigureCanvasBase(fig)\n\u001b[0;32m--> 151\u001b[0m \u001b[43mfig\u001b[49m\u001b[38;5;241;43m.\u001b[39;49m\u001b[43mcanvas\u001b[49m\u001b[38;5;241;43m.\u001b[39;49m\u001b[43mprint_figure\u001b[49m\u001b[43m(\u001b[49m\u001b[43mbytes_io\u001b[49m\u001b[43m,\u001b[49m\u001b[43m \u001b[49m\u001b[38;5;241;43m*\u001b[39;49m\u001b[38;5;241;43m*\u001b[39;49m\u001b[43mkw\u001b[49m\u001b[43m)\u001b[49m\n\u001b[1;32m    152\u001b[0m data \u001b[38;5;241m=\u001b[39m bytes_io\u001b[38;5;241m.\u001b[39mgetvalue()\n\u001b[1;32m    153\u001b[0m \u001b[38;5;28;01mif\u001b[39;00m fmt \u001b[38;5;241m==\u001b[39m \u001b[38;5;124m'\u001b[39m\u001b[38;5;124msvg\u001b[39m\u001b[38;5;124m'\u001b[39m:\n",
      "File \u001b[0;32m/usr/lib/python3/dist-packages/matplotlib/backend_bases.py:2299\u001b[0m, in \u001b[0;36mFigureCanvasBase.print_figure\u001b[0;34m(self, filename, dpi, facecolor, edgecolor, orientation, format, bbox_inches, pad_inches, bbox_extra_artists, backend, **kwargs)\u001b[0m\n\u001b[1;32m   2297\u001b[0m \u001b[38;5;28;01mif\u001b[39;00m bbox_inches:\n\u001b[1;32m   2298\u001b[0m     \u001b[38;5;28;01mif\u001b[39;00m bbox_inches \u001b[38;5;241m==\u001b[39m \u001b[38;5;124m\"\u001b[39m\u001b[38;5;124mtight\u001b[39m\u001b[38;5;124m\"\u001b[39m:\n\u001b[0;32m-> 2299\u001b[0m         bbox_inches \u001b[38;5;241m=\u001b[39m \u001b[38;5;28;43mself\u001b[39;49m\u001b[38;5;241;43m.\u001b[39;49m\u001b[43mfigure\u001b[49m\u001b[38;5;241;43m.\u001b[39;49m\u001b[43mget_tightbbox\u001b[49m\u001b[43m(\u001b[49m\n\u001b[1;32m   2300\u001b[0m \u001b[43m            \u001b[49m\u001b[43mrenderer\u001b[49m\u001b[43m,\u001b[49m\u001b[43m \u001b[49m\u001b[43mbbox_extra_artists\u001b[49m\u001b[38;5;241;43m=\u001b[39;49m\u001b[43mbbox_extra_artists\u001b[49m\u001b[43m)\u001b[49m\n\u001b[1;32m   2301\u001b[0m         \u001b[38;5;28;01mif\u001b[39;00m pad_inches \u001b[38;5;129;01mis\u001b[39;00m \u001b[38;5;28;01mNone\u001b[39;00m:\n\u001b[1;32m   2302\u001b[0m             pad_inches \u001b[38;5;241m=\u001b[39m rcParams[\u001b[38;5;124m'\u001b[39m\u001b[38;5;124msavefig.pad_inches\u001b[39m\u001b[38;5;124m'\u001b[39m]\n",
      "File \u001b[0;32m/usr/lib/python3/dist-packages/matplotlib/figure.py:1632\u001b[0m, in \u001b[0;36mFigureBase.get_tightbbox\u001b[0;34m(self, renderer, bbox_extra_artists)\u001b[0m\n\u001b[1;32m   1629\u001b[0m     artists \u001b[38;5;241m=\u001b[39m bbox_extra_artists\n\u001b[1;32m   1631\u001b[0m \u001b[38;5;28;01mfor\u001b[39;00m a \u001b[38;5;129;01min\u001b[39;00m artists:\n\u001b[0;32m-> 1632\u001b[0m     bbox \u001b[38;5;241m=\u001b[39m \u001b[43ma\u001b[49m\u001b[38;5;241;43m.\u001b[39;49m\u001b[43mget_tightbbox\u001b[49m\u001b[43m(\u001b[49m\u001b[43mrenderer\u001b[49m\u001b[43m)\u001b[49m\n\u001b[1;32m   1633\u001b[0m     \u001b[38;5;28;01mif\u001b[39;00m bbox \u001b[38;5;129;01mis\u001b[39;00m \u001b[38;5;129;01mnot\u001b[39;00m \u001b[38;5;28;01mNone\u001b[39;00m \u001b[38;5;129;01mand\u001b[39;00m (bbox\u001b[38;5;241m.\u001b[39mwidth \u001b[38;5;241m!=\u001b[39m \u001b[38;5;241m0\u001b[39m \u001b[38;5;129;01mor\u001b[39;00m bbox\u001b[38;5;241m.\u001b[39mheight \u001b[38;5;241m!=\u001b[39m \u001b[38;5;241m0\u001b[39m):\n\u001b[1;32m   1634\u001b[0m         bb\u001b[38;5;241m.\u001b[39mappend(bbox)\n",
      "File \u001b[0;32m/usr/lib/python3/dist-packages/matplotlib/legend.py:915\u001b[0m, in \u001b[0;36mLegend.get_tightbbox\u001b[0;34m(self, renderer)\u001b[0m\n\u001b[1;32m    913\u001b[0m \u001b[38;5;28;01mdef\u001b[39;00m \u001b[38;5;21mget_tightbbox\u001b[39m(\u001b[38;5;28mself\u001b[39m, renderer):\n\u001b[1;32m    914\u001b[0m     \u001b[38;5;66;03m# docstring inherited\u001b[39;00m\n\u001b[0;32m--> 915\u001b[0m     \u001b[38;5;28;01mreturn\u001b[39;00m \u001b[38;5;28;43mself\u001b[39;49m\u001b[38;5;241;43m.\u001b[39;49m\u001b[43m_legend_box\u001b[49m\u001b[38;5;241;43m.\u001b[39;49m\u001b[43mget_window_extent\u001b[49m\u001b[43m(\u001b[49m\u001b[43mrenderer\u001b[49m\u001b[43m)\u001b[49m\n",
      "File \u001b[0;32m/usr/lib/python3/dist-packages/matplotlib/offsetbox.py:351\u001b[0m, in \u001b[0;36mOffsetBox.get_window_extent\u001b[0;34m(self, renderer)\u001b[0m\n\u001b[1;32m    348\u001b[0m \u001b[38;5;28;01mdef\u001b[39;00m \u001b[38;5;21mget_window_extent\u001b[39m(\u001b[38;5;28mself\u001b[39m, renderer):\n\u001b[1;32m    349\u001b[0m     \u001b[38;5;66;03m# docstring inherited\u001b[39;00m\n\u001b[1;32m    350\u001b[0m     w, h, xd, yd, offsets \u001b[38;5;241m=\u001b[39m \u001b[38;5;28mself\u001b[39m\u001b[38;5;241m.\u001b[39mget_extent_offsets(renderer)\n\u001b[0;32m--> 351\u001b[0m     px, py \u001b[38;5;241m=\u001b[39m \u001b[38;5;28;43mself\u001b[39;49m\u001b[38;5;241;43m.\u001b[39;49m\u001b[43mget_offset\u001b[49m\u001b[43m(\u001b[49m\u001b[43mw\u001b[49m\u001b[43m,\u001b[49m\u001b[43m \u001b[49m\u001b[43mh\u001b[49m\u001b[43m,\u001b[49m\u001b[43m \u001b[49m\u001b[43mxd\u001b[49m\u001b[43m,\u001b[49m\u001b[43m \u001b[49m\u001b[43myd\u001b[49m\u001b[43m,\u001b[49m\u001b[43m \u001b[49m\u001b[43mrenderer\u001b[49m\u001b[43m)\u001b[49m\n\u001b[1;32m    352\u001b[0m     \u001b[38;5;28;01mreturn\u001b[39;00m mtransforms\u001b[38;5;241m.\u001b[39mBbox\u001b[38;5;241m.\u001b[39mfrom_bounds(px \u001b[38;5;241m-\u001b[39m xd, py \u001b[38;5;241m-\u001b[39m yd, w, h)\n",
      "File \u001b[0;32m/usr/lib/python3/dist-packages/matplotlib/offsetbox.py:290\u001b[0m, in \u001b[0;36mOffsetBox.get_offset\u001b[0;34m(self, width, height, xdescent, ydescent, renderer)\u001b[0m\n\u001b[1;32m    275\u001b[0m \u001b[38;5;28;01mdef\u001b[39;00m \u001b[38;5;21mget_offset\u001b[39m(\u001b[38;5;28mself\u001b[39m, width, height, xdescent, ydescent, renderer):\n\u001b[1;32m    276\u001b[0m     \u001b[38;5;124;03m\"\"\"\u001b[39;00m\n\u001b[1;32m    277\u001b[0m \u001b[38;5;124;03m    Return the offset as a tuple (x, y).\u001b[39;00m\n\u001b[1;32m    278\u001b[0m \n\u001b[0;32m   (...)\u001b[0m\n\u001b[1;32m    288\u001b[0m \n\u001b[1;32m    289\u001b[0m \u001b[38;5;124;03m    \"\"\"\u001b[39;00m\n\u001b[0;32m--> 290\u001b[0m     \u001b[38;5;28;01mreturn\u001b[39;00m (\u001b[38;5;28;43mself\u001b[39;49m\u001b[38;5;241;43m.\u001b[39;49m\u001b[43m_offset\u001b[49m\u001b[43m(\u001b[49m\u001b[43mwidth\u001b[49m\u001b[43m,\u001b[49m\u001b[43m \u001b[49m\u001b[43mheight\u001b[49m\u001b[43m,\u001b[49m\u001b[43m \u001b[49m\u001b[43mxdescent\u001b[49m\u001b[43m,\u001b[49m\u001b[43m \u001b[49m\u001b[43mydescent\u001b[49m\u001b[43m,\u001b[49m\u001b[43m \u001b[49m\u001b[43mrenderer\u001b[49m\u001b[43m)\u001b[49m\n\u001b[1;32m    291\u001b[0m             \u001b[38;5;28;01mif\u001b[39;00m callable(\u001b[38;5;28mself\u001b[39m\u001b[38;5;241m.\u001b[39m_offset)\n\u001b[1;32m    292\u001b[0m             \u001b[38;5;28;01melse\u001b[39;00m \u001b[38;5;28mself\u001b[39m\u001b[38;5;241m.\u001b[39m_offset)\n",
      "File \u001b[0;32m/usr/lib/python3/dist-packages/matplotlib/legend.py:589\u001b[0m, in \u001b[0;36mLegend._findoffset\u001b[0;34m(self, width, height, xdescent, ydescent, renderer)\u001b[0m\n\u001b[1;32m    586\u001b[0m \u001b[38;5;124;03m\"\"\"Helper function to locate the legend.\"\"\"\u001b[39;00m\n\u001b[1;32m    588\u001b[0m \u001b[38;5;28;01mif\u001b[39;00m \u001b[38;5;28mself\u001b[39m\u001b[38;5;241m.\u001b[39m_loc \u001b[38;5;241m==\u001b[39m \u001b[38;5;241m0\u001b[39m:  \u001b[38;5;66;03m# \"best\".\u001b[39;00m\n\u001b[0;32m--> 589\u001b[0m     x, y \u001b[38;5;241m=\u001b[39m \u001b[38;5;28;43mself\u001b[39;49m\u001b[38;5;241;43m.\u001b[39;49m\u001b[43m_find_best_position\u001b[49m\u001b[43m(\u001b[49m\u001b[43mwidth\u001b[49m\u001b[43m,\u001b[49m\u001b[43m \u001b[49m\u001b[43mheight\u001b[49m\u001b[43m,\u001b[49m\u001b[43m \u001b[49m\u001b[43mrenderer\u001b[49m\u001b[43m)\u001b[49m\n\u001b[1;32m    590\u001b[0m \u001b[38;5;28;01melif\u001b[39;00m \u001b[38;5;28mself\u001b[39m\u001b[38;5;241m.\u001b[39m_loc \u001b[38;5;129;01min\u001b[39;00m Legend\u001b[38;5;241m.\u001b[39mcodes\u001b[38;5;241m.\u001b[39mvalues():  \u001b[38;5;66;03m# Fixed location.\u001b[39;00m\n\u001b[1;32m    591\u001b[0m     bbox \u001b[38;5;241m=\u001b[39m Bbox\u001b[38;5;241m.\u001b[39mfrom_bounds(\u001b[38;5;241m0\u001b[39m, \u001b[38;5;241m0\u001b[39m, width, height)\n",
      "File \u001b[0;32m/usr/lib/python3/dist-packages/matplotlib/legend.py:1034\u001b[0m, in \u001b[0;36mLegend._find_best_position\u001b[0;34m(self, width, height, renderer, consider)\u001b[0m\n\u001b[1;32m   1027\u001b[0m badness \u001b[38;5;241m=\u001b[39m \u001b[38;5;241m0\u001b[39m\n\u001b[1;32m   1028\u001b[0m \u001b[38;5;66;03m# XXX TODO: If markers are present, it would be good to take them\u001b[39;00m\n\u001b[1;32m   1029\u001b[0m \u001b[38;5;66;03m# into account when checking vertex overlaps in the next line.\u001b[39;00m\n\u001b[1;32m   1030\u001b[0m badness \u001b[38;5;241m=\u001b[39m (\u001b[38;5;28msum\u001b[39m(legendBox\u001b[38;5;241m.\u001b[39mcount_contains(line\u001b[38;5;241m.\u001b[39mvertices)\n\u001b[1;32m   1031\u001b[0m                \u001b[38;5;28;01mfor\u001b[39;00m line \u001b[38;5;129;01min\u001b[39;00m lines)\n\u001b[1;32m   1032\u001b[0m            \u001b[38;5;241m+\u001b[39m legendBox\u001b[38;5;241m.\u001b[39mcount_contains(offsets)\n\u001b[1;32m   1033\u001b[0m            \u001b[38;5;241m+\u001b[39m legendBox\u001b[38;5;241m.\u001b[39mcount_overlaps(bboxes)\n\u001b[0;32m-> 1034\u001b[0m            \u001b[38;5;241m+\u001b[39m \u001b[38;5;28;43msum\u001b[39;49m\u001b[43m(\u001b[49m\u001b[43mline\u001b[49m\u001b[38;5;241;43m.\u001b[39;49m\u001b[43mintersects_bbox\u001b[49m\u001b[43m(\u001b[49m\u001b[43mlegendBox\u001b[49m\u001b[43m,\u001b[49m\u001b[43m \u001b[49m\u001b[43mfilled\u001b[49m\u001b[38;5;241;43m=\u001b[39;49m\u001b[38;5;28;43;01mFalse\u001b[39;49;00m\u001b[43m)\u001b[49m\n\u001b[1;32m   1035\u001b[0m \u001b[43m                 \u001b[49m\u001b[38;5;28;43;01mfor\u001b[39;49;00m\u001b[43m \u001b[49m\u001b[43mline\u001b[49m\u001b[43m \u001b[49m\u001b[38;5;129;43;01min\u001b[39;49;00m\u001b[43m \u001b[49m\u001b[43mlines\u001b[49m\u001b[43m)\u001b[49m)\n\u001b[1;32m   1036\u001b[0m \u001b[38;5;28;01mif\u001b[39;00m badness \u001b[38;5;241m==\u001b[39m \u001b[38;5;241m0\u001b[39m:\n\u001b[1;32m   1037\u001b[0m     \u001b[38;5;28;01mreturn\u001b[39;00m l, b\n",
      "File \u001b[0;32m/usr/lib/python3/dist-packages/matplotlib/legend.py:1034\u001b[0m, in \u001b[0;36m<genexpr>\u001b[0;34m(.0)\u001b[0m\n\u001b[1;32m   1027\u001b[0m badness \u001b[38;5;241m=\u001b[39m \u001b[38;5;241m0\u001b[39m\n\u001b[1;32m   1028\u001b[0m \u001b[38;5;66;03m# XXX TODO: If markers are present, it would be good to take them\u001b[39;00m\n\u001b[1;32m   1029\u001b[0m \u001b[38;5;66;03m# into account when checking vertex overlaps in the next line.\u001b[39;00m\n\u001b[1;32m   1030\u001b[0m badness \u001b[38;5;241m=\u001b[39m (\u001b[38;5;28msum\u001b[39m(legendBox\u001b[38;5;241m.\u001b[39mcount_contains(line\u001b[38;5;241m.\u001b[39mvertices)\n\u001b[1;32m   1031\u001b[0m                \u001b[38;5;28;01mfor\u001b[39;00m line \u001b[38;5;129;01min\u001b[39;00m lines)\n\u001b[1;32m   1032\u001b[0m            \u001b[38;5;241m+\u001b[39m legendBox\u001b[38;5;241m.\u001b[39mcount_contains(offsets)\n\u001b[1;32m   1033\u001b[0m            \u001b[38;5;241m+\u001b[39m legendBox\u001b[38;5;241m.\u001b[39mcount_overlaps(bboxes)\n\u001b[0;32m-> 1034\u001b[0m            \u001b[38;5;241m+\u001b[39m \u001b[38;5;28msum\u001b[39m(\u001b[43mline\u001b[49m\u001b[38;5;241;43m.\u001b[39;49m\u001b[43mintersects_bbox\u001b[49m\u001b[43m(\u001b[49m\u001b[43mlegendBox\u001b[49m\u001b[43m,\u001b[49m\u001b[43m \u001b[49m\u001b[43mfilled\u001b[49m\u001b[38;5;241;43m=\u001b[39;49m\u001b[38;5;28;43;01mFalse\u001b[39;49;00m\u001b[43m)\u001b[49m\n\u001b[1;32m   1035\u001b[0m                  \u001b[38;5;28;01mfor\u001b[39;00m line \u001b[38;5;129;01min\u001b[39;00m lines))\n\u001b[1;32m   1036\u001b[0m \u001b[38;5;28;01mif\u001b[39;00m badness \u001b[38;5;241m==\u001b[39m \u001b[38;5;241m0\u001b[39m:\n\u001b[1;32m   1037\u001b[0m     \u001b[38;5;28;01mreturn\u001b[39;00m l, b\n",
      "File \u001b[0;32m/usr/lib/python3/dist-packages/matplotlib/path.py:655\u001b[0m, in \u001b[0;36mPath.intersects_bbox\u001b[0;34m(self, bbox, filled)\u001b[0m\n\u001b[1;32m    646\u001b[0m \u001b[38;5;28;01mdef\u001b[39;00m \u001b[38;5;21mintersects_bbox\u001b[39m(\u001b[38;5;28mself\u001b[39m, bbox, filled\u001b[38;5;241m=\u001b[39m\u001b[38;5;28;01mTrue\u001b[39;00m):\n\u001b[1;32m    647\u001b[0m     \u001b[38;5;124;03m\"\"\"\u001b[39;00m\n\u001b[1;32m    648\u001b[0m \u001b[38;5;124;03m    Return whether this path intersects a given `~.transforms.Bbox`.\u001b[39;00m\n\u001b[1;32m    649\u001b[0m \n\u001b[0;32m   (...)\u001b[0m\n\u001b[1;32m    653\u001b[0m \u001b[38;5;124;03m    The bounding box is always considered filled.\u001b[39;00m\n\u001b[1;32m    654\u001b[0m \u001b[38;5;124;03m    \"\"\"\u001b[39;00m\n\u001b[0;32m--> 655\u001b[0m     \u001b[38;5;28;01mreturn\u001b[39;00m \u001b[43m_path\u001b[49m\u001b[38;5;241;43m.\u001b[39;49m\u001b[43mpath_intersects_rectangle\u001b[49m\u001b[43m(\u001b[49m\n\u001b[1;32m    656\u001b[0m \u001b[43m        \u001b[49m\u001b[38;5;28;43mself\u001b[39;49m\u001b[43m,\u001b[49m\u001b[43m \u001b[49m\u001b[43mbbox\u001b[49m\u001b[38;5;241;43m.\u001b[39;49m\u001b[43mx0\u001b[49m\u001b[43m,\u001b[49m\u001b[43m \u001b[49m\u001b[43mbbox\u001b[49m\u001b[38;5;241;43m.\u001b[39;49m\u001b[43my0\u001b[49m\u001b[43m,\u001b[49m\u001b[43m \u001b[49m\u001b[43mbbox\u001b[49m\u001b[38;5;241;43m.\u001b[39;49m\u001b[43mx1\u001b[49m\u001b[43m,\u001b[49m\u001b[43m \u001b[49m\u001b[43mbbox\u001b[49m\u001b[38;5;241;43m.\u001b[39;49m\u001b[43my1\u001b[49m\u001b[43m,\u001b[49m\u001b[43m \u001b[49m\u001b[43mfilled\u001b[49m\u001b[43m)\u001b[49m\n",
      "\u001b[0;31mKeyboardInterrupt\u001b[0m: "
     ]
    }
   ],
   "source": [
    "plt.plot(laser_ddr4/np.max(laser_ddr4) + 1.5, label='Laser')\n",
    "plt.plot(x/np.max(x), label='Microwave I')\n",
    "# plt.plot(y, label='Microwave Q')\n",
    "plt.legend()\n",
    "plt.show()\n",
    "\n",
    "for i in range(len(mw_start_treg) - 5):\n",
    "    plt.plot(x_norm[mw_start_treg[i]: laser_end_treg[2 * i]] + i * 1.5)\n",
    "    plt.plot(laser_norm[mw_start_treg[i]: laser_end_treg[2 * i]] +  i * 1.5)\n",
    "\n",
    "# plt.plot(x_norm[mw_start_treg[1]: laser_end_treg[3]])\n"
   ]
  },
  {
   "cell_type": "code",
   "execution_count": 75,
   "id": "1273451c",
   "metadata": {},
   "outputs": [
    {
     "data": {
      "text/plain": [
       "array([200, 200, 200, 200, 200, 200, 200, 200, 200, 200, 200, 200, 200,\n",
       "       200, 200, 200, 200, 200, 200, 200, 200, 200, 200, 200, 200, 200,\n",
       "       200, 200])"
      ]
     },
     "execution_count": 75,
     "metadata": {},
     "output_type": "execute_result"
    }
   ],
   "source": [
    "# should be equal to the mw pulse time in treg for 2 * pi/2\n",
    "\n",
    "mw_end_treg - mw_start_treg"
   ]
  },
  {
   "cell_type": "code",
   "execution_count": 76,
   "id": "04a538c2",
   "metadata": {},
   "outputs": [
    {
     "data": {
      "text/plain": [
       "array([5000, 5000, 5000, 5000, 5000, 5000, 5000, 5000, 5000, 5000, 5000,\n",
       "       5000, 5000, 5000, 5000, 5000, 5000, 5000, 5000, 5000, 5000, 5000,\n",
       "       5000, 5000, 5000, 5000, 5000, 5000, 5000, 5000, 5000, 5000, 5000,\n",
       "       5000, 5000, 5000, 5000, 5000, 5000, 5000, 5000, 5000, 5000, 5000,\n",
       "       5000, 5000, 5000, 5000, 5000, 5000, 5000, 5000, 5000, 5000, 5000])"
      ]
     },
     "execution_count": 76,
     "metadata": {},
     "output_type": "execute_result"
    }
   ],
   "source": [
    "# should be equal to the readout window time in treg\n",
    "\n",
    "laser_end_treg - laser_start_treg"
   ]
  },
  {
   "cell_type": "code",
   "execution_count": 77,
   "id": "7c58f88f",
   "metadata": {},
   "outputs": [
    {
     "name": "stdout",
     "output_type": "stream",
     "text": [
      "[0, 7, 18, 34, 58, 94, 148, 229, 351, 534, 808, 1219, 1836, 2761, 4149, 6231, 9354, 14038, 21064, 31603, 47412, 71125, 106695, 160050, 240082, 360130, 540202, 810310]\n"
     ]
    }
   ],
   "source": [
    "# Should be 4 * mw_pi2_treg + 2 * delay_treg + laser_on_treg + mw_readout_delay_treg + laser_readout_offset_treg - adc_trigger_offset_treg\n",
    "# this should only change by delay * 2 time\n",
    "\n",
    "sequence_time = []\n",
    "\n",
    "for i in range(len(mw_start_treg)):\n",
    "    sequence_time.append(laser_end_treg[2 * i] - mw_start_treg[i])\n",
    "\n",
    "print([sequence_time[i] - sequence_time[0] for i in range(len(sequence_time))])"
   ]
  },
  {
   "cell_type": "code",
   "execution_count": 78,
   "id": "478e9f14",
   "metadata": {},
   "outputs": [
    {
     "name": "stdout",
     "output_type": "stream",
     "text": [
      "\n",
      "// Program\n",
      "\n",
      "            regwi 1, $22, 626961066;            //freq = 2507844267\n",
      "            bitwi 1, $22, $22 << 2;\n",
      "            mathi 1, $22, $22 + 3;\n",
      "            regwi 1, $25, 30000;                //gain = 30000\n",
      "            regwi 1, $23, 0;                    //phase = 0\n",
      "            regwi 1, $26, 589924;               //phrst| stdysel | mode | | outsel = 0b01001 | length = 100 \n",
      "            regwi 1, $1, 15;                    //'delay' <= 15 \n",
      "            synci 100;\n",
      "            regwi 0, $16, 8192;                 //out = 0b0010000000000000\n",
      "            seti 7, 0, $16, 0;                  //ch =0 out = $16 @t = 0\n",
      "            seti 7, 0, $0, 10;                  //ch =0 out = 0 @t = 0\n",
      "            synci 100;\n",
      "            regwi 0, $13, 0;\n",
      "            regwi 0, $14, 0;\n",
      "LOOP_rep:   regwi 1, $1, 15;                    //'delay' <= 15 \n",
      "            regwi 0, $17, 31;\n",
      "LOOP_delay: regwi 1, $27, 0;                    //t = 0\n",
      "            set 1, 1, $22, $23, $0, $25, $26, $27;//ch = 1, pulse @t = $27\n",
      "            regwi 1, $27, 100;                  //t = 100\n",
      "            set 1, 1, $22, $23, $0, $25, $26, $27;//ch = 1, pulse @t = $27\n",
      "            synci 200;\n",
      "            sync 1, $1;\n",
      "            synci 300;\n",
      "            regwi 0, $16, 1;                    //out = 0b0000000000000001\n",
      "            seti 7, 0, $16, 0;                  //ch =0 out = $16 @t = 0\n",
      "            regwi 0, $16, 49153;                //out = 0b1100000000000001\n",
      "            seti 7, 0, $16, 0;                  //ch =0 out = $16 @t = 0\n",
      "            regwi 0, $16, 1;                    //out = 0b0000000000000001\n",
      "            seti 7, 0, $16, 700;                //ch =0 out = $16 @t = 700\n",
      "            regwi 0, $16, 49153;                //out = 0b1100000000000001\n",
      "            seti 7, 0, $16, 3500;               //ch =0 out = $16 @t = 3500\n",
      "            regwi 0, $16, 1;                    //out = 0b0000000000000001\n",
      "            seti 7, 0, $16, 4200;               //ch =0 out = $16 @t = 4200\n",
      "            seti 7, 0, $0, 5000;                //ch =0 out = 0 @t = 4200\n",
      "            waiti 0, 5000;\n",
      "            synci 5100;\n",
      "            synci 200;\n",
      "            sync 1, $1;\n",
      "            synci 100;\n",
      "            regwi 0, $16, 1;                    //out = 0b0000000000000001\n",
      "            seti 7, 0, $16, 0;                  //ch =0 out = $16 @t = 0\n",
      "            regwi 0, $16, 49153;                //out = 0b1100000000000001\n",
      "            seti 7, 0, $16, 0;                  //ch =0 out = $16 @t = 0\n",
      "            regwi 0, $16, 1;                    //out = 0b0000000000000001\n",
      "            seti 7, 0, $16, 700;                //ch =0 out = $16 @t = 700\n",
      "            regwi 0, $16, 49153;                //out = 0b1100000000000001\n",
      "            seti 7, 0, $16, 3500;               //ch =0 out = $16 @t = 3500\n",
      "            regwi 0, $16, 1;                    //out = 0b0000000000000001\n",
      "            seti 7, 0, $16, 4200;               //ch =0 out = $16 @t = 4200\n",
      "            seti 7, 0, $0, 5000;                //ch =0 out = 0 @t = 4200\n",
      "            waiti 0, 5000;\n",
      "            synci 5100;\n",
      "            mathi 0, $13, $13 + 1;\n",
      "            memwi 0, $13, 1;\n",
      "            bitwi 1, $2, $1 >> 1;\n",
      "            math 1, $1, $1 + $2;\n",
      "            loopnz 0, $17, @LOOP_delay;\n",
      "            loopnz 0, $14, @LOOP_rep;\n",
      "            end ;\n"
     ]
    }
   ],
   "source": [
    "print(prog.asm())"
   ]
  },
  {
   "cell_type": "code",
   "execution_count": 73,
   "id": "ee6ce97a",
   "metadata": {},
   "outputs": [
    {
     "data": {
      "text/plain": [
       "[<matplotlib.lines.Line2D at 0xffff5a6cc520>]"
      ]
     },
     "execution_count": 73,
     "metadata": {},
     "output_type": "execute_result"
    },
    {
     "data": {
      "image/png": "[encoded data removed]",
      "text/plain": [
       "<Figure size 432x288 with 1 Axes>"
      ]
     },
     "metadata": {
      "needs_background": "light"
     },
     "output_type": "display_data"
    }
   ],
   "source": [
    "plt.plot(d.signal1/prog.cfg.readout_integration_treg)\n",
    "plt.plot(d.signal2/prog.cfg.readout_integration_treg)\n",
    "plt.plot(d.reference1/prog.cfg.readout_integration_treg)\n",
    "plt.plot(d.reference2/prog.cfg.readout_integration_treg)"
   ]
  },
  {
   "cell_type": "code",
   "execution_count": null,
   "id": "386585ef",
   "metadata": {},
   "outputs": [],
   "source": []
  }
 ],
 "metadata": {
  "kernelspec": {
   "display_name": "Python 3 (ipykernel)",
   "language": "python",
   "name": "python3"
  },
  "language_info": {
   "codemirror_mode": {
    "name": "ipython",
    "version": 3
   },
   "file_extension": ".py",
   "mimetype": "text/x-python",
   "name": "python",
   "nbconvert_exporter": "python",
   "pygments_lexer": "ipython3",
   "version": "3.10.4"
  }
 },
 "nbformat": 4,
 "nbformat_minor": 5
}
