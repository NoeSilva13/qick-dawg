{
 "cells": [
  {
   "cell_type": "code",
   "execution_count": 1,
   "id": "16392e8a",
   "metadata": {},
   "outputs": [],
   "source": [
    "%load_ext autoreload\n",
    "%autoreload 2\n",
    "\n",
    "import sys\n",
    "\n",
    "sys.path.append('/home/xilinx/jupyter_notebooks/qickdawg/src/')\n",
    "\n",
    "import qickdawg as qd\n",
    "from copy import copy\n",
    "import matplotlib.pyplot as plt\n",
    "import numpy as np\n",
    "from scipy.signal import find_peaks"
   ]
  },
  {
   "cell_type": "code",
   "execution_count": 2,
   "id": "4be7aa4d",
   "metadata": {},
   "outputs": [
    {
     "data": {
      "application/javascript": [
       "\n",
       "try {\n",
       "require(['notebook/js/codecell'], function(codecell) {\n",
       "  codecell.CodeCell.options_default.highlight_modes[\n",
       "      'magic_text/x-csrc'] = {'reg':[/^%%microblaze/]};\n",
       "  Jupyter.notebook.events.one('kernel_ready.Kernel', function(){\n",
       "      Jupyter.notebook.get_cells().map(function(cell){\n",
       "          if (cell.cell_type == 'code'){ cell.auto_highlight(); } }) ;\n",
       "  });\n",
       "});\n",
       "} catch (e) {};\n"
      ]
     },
     "metadata": {},
     "output_type": "display_data"
    },
    {
     "data": {
      "application/javascript": [
       "\n",
       "try {\n",
       "require(['notebook/js/codecell'], function(codecell) {\n",
       "  codecell.CodeCell.options_default.highlight_modes[\n",
       "      'magic_text/x-csrc'] = {'reg':[/^%%pybind11/]};\n",
       "  Jupyter.notebook.events.one('kernel_ready.Kernel', function(){\n",
       "      Jupyter.notebook.get_cells().map(function(cell){\n",
       "          if (cell.cell_type == 'code'){ cell.auto_highlight(); } }) ;\n",
       "  });\n",
       "});\n",
       "} catch (e) {};\n"
      ]
     },
     "metadata": {},
     "output_type": "display_data"
    }
   ],
   "source": [
    "qd.start_client(bitfile=\"/home/xilinx/jupyter_notebooks/qickdawg/firmware/photon_counting/qick_4x2.bit\")"
   ]
  },
  {
   "cell_type": "code",
   "execution_count": 3,
   "id": "2e1b04d4",
   "metadata": {},
   "outputs": [],
   "source": [
    "default_config = qd.NVConfiguration()\n",
    "\n",
    "default_config.test = True\n",
    "default_config.mw_readout_channel = 1\n",
    "default_config.ddr4 = True\n",
    "default_config.ddr4_channel = 0\n",
    "default_config.n_ddr4_chunks = 200\n",
    "\n",
    "default_config.adc_channel = 0 \n",
    "\n",
    "default_config.mw_channel = 1\n",
    "default_config.mw_nqz = 1\n",
    "default_config.mw_gain = 5000\n",
    "\n",
    "default_config.laser_gate_pmod = 0\n",
    "\n",
    "default_config.relax_delay_treg = 100 # between each rep, wait for everything to catch up, mostly aom\n"
   ]
  },
  {
   "cell_type": "code",
   "execution_count": 4,
   "id": "029dea97",
   "metadata": {},
   "outputs": [
    {
     "name": "stdout",
     "output_type": "stream",
     "text": [
      "Approximate on intensity 1714.5235294117647 ADC units\n",
      "Approximate off intensity 2.7284313725490197 ADC units\n"
     ]
    }
   ],
   "source": [
    "config = copy(default_config)\n",
    "\n",
    "config.soft_avgs = 1\n",
    "config.readout_integration_treg = 1020\n",
    "prog = qd.LaserOn(config)\n",
    "_ = prog.acquire_decimated(progress=False)\n",
    "data = prog.acquire_decimated(progress=False)\n",
    "on_value  = np.mean(data)\n",
    "print('Approximate on intensity {} ADC units'.format(on_value))\n",
    "\n",
    "prog = qd.LaserOff(config)\n",
    "_ = prog.acquire_decimated(progress=False)\n",
    "data = prog.acquire_decimated(progress=False)\n",
    "off_value  = np.mean(data)\n",
    "print('Approximate off intensity {} ADC units'.format(off_value))\n"
   ]
  },
  {
   "cell_type": "code",
   "execution_count": 5,
   "id": "326a13e9",
   "metadata": {},
   "outputs": [
    {
     "data": {
      "application/vnd.jupyter.widget-view+json": {
       "model_id": "f2d156ec83084426af2e37409abb7e9e",
       "version_major": 2,
       "version_minor": 0
      },
      "text/plain": [
       "  0%|          | 0/3 [00:00<?, ?it/s]"
      ]
     },
     "metadata": {},
     "output_type": "display_data"
    },
    {
     "data": {
      "application/vnd.jupyter.widget-view+json": {
       "model_id": "c7435545e1c24c7f852af085c580bb7c",
       "version_major": 2,
       "version_minor": 0
      },
      "text/plain": [
       "  0%|          | 0/3 [00:00<?, ?it/s]"
      ]
     },
     "metadata": {},
     "output_type": "display_data"
    }
   ],
   "source": [
    "for i in range(2):\n",
    "    \n",
    "    qd.soc.clear_ddr4()\n",
    "\n",
    "    config = copy(default_config)\n",
    "    \n",
    "    config.mw_gain = 30000\n",
    "    config.mw_fMHz = 2870\n",
    "\n",
    "    config.pre_init = False\n",
    "\n",
    "    config.relax_delay_treg = 100\n",
    "\n",
    "    config.laser_on_treg = 5000 # in us\n",
    "    config.readout_integration_treg = 700  # us\n",
    "    config.readout_reference_start_treg = 3500 # us\n",
    "\n",
    "    config.laser_readout_offset_treg = 0 #\n",
    "    config.mw_readout_delay_treg = 100\n",
    "\n",
    "    config.add_linear_sweep('mw', 'treg', start=100, stop=300, delta=100)\n",
    "\n",
    "    config.reps = 1\n",
    "\n",
    "    config.ddr4_channel = i\n",
    "\n",
    "    prog = qd.RabiSweep(config)\n",
    "    d = prog.acquire(raw_data=True, progress=True)\n",
    "\n",
    "    if i == 0:\n",
    "        laser_ddr4 = qd.soc.get_ddr4(config.n_ddr4_chunks)[:, 0]\n",
    "    elif i == 1:\n",
    "        mw_ddr4 = qd.soc.get_ddr4(config.n_ddr4_chunks)\n",
    "        mw_real = mw_ddr4[:, 0]\n",
    "        mw_imag = mw_ddr4[:, 1]"
   ]
  },
  {
   "cell_type": "code",
   "execution_count": 17,
   "id": "b83c5cbf",
   "metadata": {},
   "outputs": [
    {
     "data": {
      "text/plain": [
       "<matplotlib.legend.Legend at 0xffff4cd3a680>"
      ]
     },
     "execution_count": 17,
     "metadata": {},
     "output_type": "execute_result"
    },
    {
     "data": {
      "image/png": "[encoded data removed]",
      "text/plain": [
       "<Figure size 432x288 with 1 Axes>"
      ]
     },
     "metadata": {
      "needs_background": "light"
     },
     "output_type": "display_data"
    }
   ],
   "source": [
    "phase = np.arctan(np.mean(mw_real[300:800]) / np.mean(mw_imag[300:800]))\n",
    "phase += np.pi/2\n",
    "\n",
    "x = mw_real * np.cos(phase) - mw_imag * np.sin(phase)\n",
    "y = mw_real * np.sin(phase) + mw_imag * np.cos(phase)\n",
    "\n",
    "plt.plot(laser_ddr4, label='Laser')\n",
    "plt.plot(x, label='Microwave I')\n",
    "plt.plot(y, label='Microwave Q')\n",
    "# plt.xlim(0, 3000)\n",
    "plt.legend()"
   ]
  },
  {
   "cell_type": "code",
   "execution_count": 18,
   "id": "576dacb0",
   "metadata": {},
   "outputs": [
    {
     "data": {
      "text/plain": [
       "[<matplotlib.lines.Line2D at 0xffff4cdb5390>]"
      ]
     },
     "execution_count": 18,
     "metadata": {},
     "output_type": "execute_result"
    },
    {
     "data": {
      "image/png": "[encoded data removed]",
      "text/plain": [
       "<Figure size 432x288 with 1 Axes>"
      ]
     },
     "metadata": {
      "needs_background": "light"
     },
     "output_type": "display_data"
    }
   ],
   "source": [
    "plt.plot(np.gradient(x))"
   ]
  },
  {
   "cell_type": "code",
   "execution_count": 19,
   "id": "41d766e0",
   "metadata": {},
   "outputs": [],
   "source": [
    "laser_start_treg = find_peaks(np.gradient(laser_ddr4), height=400)[0]\n",
    "laser_end_treg = find_peaks(np.gradient(-laser_ddr4), height=400)[0]\n",
    "mw_start_treg = find_peaks(np.gradient(x), height=300)[0]\n",
    "mw_end_treg = find_peaks(np.gradient(-x), height=300)[0]\n",
    "\n",
    "laser_norm = laser_ddr4 /np.max(laser_ddr4)\n",
    "x_norm = x /np.max(x)"
   ]
  },
  {
   "cell_type": "code",
   "execution_count": 23,
   "id": "f0979e62",
   "metadata": {},
   "outputs": [
    {
     "data": {
      "image/png": "[encoded data removed]",
      "text/plain": [
       "<Figure size 432x288 with 1 Axes>"
      ]
     },
     "metadata": {
      "needs_background": "light"
     },
     "output_type": "display_data"
    },
    {
     "data": {
      "image/png": "[encoded data removed]",
      "text/plain": [
       "<Figure size 432x288 with 1 Axes>"
      ]
     },
     "metadata": {
      "needs_background": "light"
     },
     "output_type": "display_data"
    }
   ],
   "source": [
    "plt.plot(laser_ddr4/np.max(laser_ddr4) + 1.5, label='Laser')\n",
    "plt.plot(x/np.max(x), label='Microwave I')\n",
    "# plt.plot(y, label='Microwave Q')\n",
    "plt.legend()\n",
    "plt.show()\n",
    "\n",
    "for i in range(len(mw_start_treg)):\n",
    "    plt.plot(x_norm[mw_start_treg[i] - 10: laser_end_treg[2*i]] + i * 1.5)\n",
    "    plt.plot(laser_norm[mw_start_treg[i]- 10: laser_end_treg[2*i]] +  i * 1.5)\n",
    "# plt.plot(x_norm[mw_start_treg[1]: laser_end_treg[3]])\n"
   ]
  },
  {
   "cell_type": "code",
   "execution_count": 24,
   "id": "1273451c",
   "metadata": {},
   "outputs": [
    {
     "data": {
      "text/plain": [
       "array([100, 200, 300])"
      ]
     },
     "execution_count": 24,
     "metadata": {},
     "output_type": "execute_result"
    }
   ],
   "source": [
    "# should be equal to the mw pulse time in treg\n",
    "\n",
    "mw_end_treg - mw_start_treg"
   ]
  },
  {
   "cell_type": "code",
   "execution_count": 25,
   "id": "04a538c2",
   "metadata": {},
   "outputs": [
    {
     "data": {
      "text/plain": [
       "array([5000, 5000, 5000, 5000, 5000, 5000])"
      ]
     },
     "execution_count": 25,
     "metadata": {},
     "output_type": "execute_result"
    }
   ],
   "source": [
    "# should be equal to the readout window time in treg\n",
    "\n",
    "laser_end_treg - laser_start_treg"
   ]
  },
  {
   "cell_type": "code",
   "execution_count": 26,
   "id": "7c58f88f",
   "metadata": {},
   "outputs": [
    {
     "name": "stdout",
     "output_type": "stream",
     "text": [
      "[5142, 5242, 5342]\n"
     ]
    }
   ],
   "source": [
    "# Should be mw_pi2_treg + laser_on_treg + mw_readout_delay_treg + laser_readout_offset_treg - adc_trigger_offset_treg\n",
    "\n",
    "sequence_time = []\n",
    "\n",
    "for i in range(len(mw_start_treg)):\n",
    "    sequence_time.append(laser_end_treg[2*i] - mw_start_treg[i])\n",
    "\n",
    "print(sequence_time)"
   ]
  },
  {
   "cell_type": "code",
   "execution_count": 27,
   "id": "478e9f14",
   "metadata": {},
   "outputs": [
    {
     "name": "stdout",
     "output_type": "stream",
     "text": [
      "\n",
      "// Program\n",
      "\n",
      "             regwi 1, $22, 626961066;           //freq = 2507844267\n",
      "             bitwi 1, $22, $22 << 2;\n",
      "             mathi 1, $22, $22 + 3;\n",
      "             regwi 1, $23, 0;                   //phase = 0\n",
      "             regwi 1, $25, 30000;               //gain = 30000\n",
      "             regwi 1, $26, 589924;              //phrst| stdysel | mode | | outsel = 0b01001 | length = 100 \n",
      "             regwi 1, $1, 100;                  //'mw_length' <= 100 \n",
      "             synci 100;\n",
      "             regwi 0, $16, 8192;                //out = 0b0010000000000000\n",
      "             seti 7, 0, $16, 0;                 //ch =0 out = $16 @t = 0\n",
      "             seti 7, 0, $0, 10;                 //ch =0 out = 0 @t = 0\n",
      "             synci 100;\n",
      "             waiti 0, 0;\n",
      "             synci 100;\n",
      "             regwi 0, $13, 0;\n",
      "             regwi 0, $14, 0;\n",
      "LOOP_rep:    regwi 1, $1, 100;                  //'mw_length' <= 100 \n",
      "             regwi 1, $26, 589924;              //phrst| stdysel | mode | | outsel = 0b01001 | length = 100 \n",
      "             regwi 0, $17, 2;\n",
      "LOOP_length: regwi 1, $27, 0;                   //t = 0\n",
      "             set 1, 1, $22, $23, $0, $25, $26, $27;//ch = 1, pulse @t = $27\n",
      "             sync 1, $1;\n",
      "             synci 100;\n",
      "             regwi 0, $16, 1;                   //out = 0b0000000000000001\n",
      "             seti 7, 0, $16, 0;                 //ch =0 out = $16 @t = 0\n",
      "             regwi 0, $16, 49153;               //out = 0b1100000000000001\n",
      "             seti 7, 0, $16, 0;                 //ch =0 out = $16 @t = 0\n",
      "             regwi 0, $16, 1;                   //out = 0b0000000000000001\n",
      "             seti 7, 0, $16, 700;               //ch =0 out = $16 @t = 700\n",
      "             regwi 0, $16, 49153;               //out = 0b1100000000000001\n",
      "             seti 7, 0, $16, 3500;              //ch =0 out = $16 @t = 3500\n",
      "             regwi 0, $16, 1;                   //out = 0b0000000000000001\n",
      "             seti 7, 0, $16, 4200;              //ch =0 out = $16 @t = 4200\n",
      "             seti 7, 0, $0, 5000;               //ch =0 out = 0 @t = 4200\n",
      "             waiti 0, 5000;\n",
      "             synci 5100;\n",
      "             sync 1, $1;\n",
      "             synci 100;\n",
      "             regwi 0, $16, 1;                   //out = 0b0000000000000001\n",
      "             seti 7, 0, $16, 0;                 //ch =0 out = $16 @t = 0\n",
      "             regwi 0, $16, 49153;               //out = 0b1100000000000001\n",
      "             seti 7, 0, $16, 0;                 //ch =0 out = $16 @t = 0\n",
      "             regwi 0, $16, 1;                   //out = 0b0000000000000001\n",
      "             seti 7, 0, $16, 700;               //ch =0 out = $16 @t = 700\n",
      "             regwi 0, $16, 49153;               //out = 0b1100000000000001\n",
      "             seti 7, 0, $16, 3500;              //ch =0 out = $16 @t = 3500\n",
      "             regwi 0, $16, 1;                   //out = 0b0000000000000001\n",
      "             seti 7, 0, $16, 4200;              //ch =0 out = $16 @t = 4200\n",
      "             seti 7, 0, $0, 5000;               //ch =0 out = 0 @t = 4200\n",
      "             waiti 0, 5000;\n",
      "             synci 5100;\n",
      "             mathi 0, $13, $13 + 1;\n",
      "             memwi 0, $13, 1;\n",
      "             mathi 1, $1, $1 + 100;             // 'mw_length' <= 'mw_length' + 100 \n",
      "             mathi 1, $26, $26 + 100;           // 'gen1_mode' <= 'gen1_mode' + 100 \n",
      "             loopnz 0, $17, @LOOP_length;\n",
      "             loopnz 0, $14, @LOOP_rep;\n",
      "             end ;\n"
     ]
    }
   ],
   "source": [
    "print(prog.asm())"
   ]
  }
 ],
 "metadata": {
  "kernelspec": {
   "display_name": "Python 3 (ipykernel)",
   "language": "python",
   "name": "python3"
  },
  "language_info": {
   "codemirror_mode": {
    "name": "ipython",
    "version": 3
   },
   "file_extension": ".py",
   "mimetype": "text/x-python",
   "name": "python",
   "nbconvert_exporter": "python",
   "pygments_lexer": "ipython3",
   "version": "3.10.4"
  }
 },
 "nbformat": 4,
 "nbformat_minor": 5
}
